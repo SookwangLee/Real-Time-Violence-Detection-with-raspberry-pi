{
 "cells": [
  {
   "cell_type": "markdown",
   "metadata": {},
   "source": [
    "# MobileNet 모델로 데이터셋에서 특성 추출하기\n",
    "* 21XXXX_01_video-to-numpy-save.ipynb, 21XXXX_02_create-numpy-... .ipynb 파일에서 이어지는 코드입니다.\n",
    "* **`data_training_ar`**, **`data_test_ar`** 등을 불러와 **`X_train`**, **`y_train`** 을 만듭니다."
   ]
  },
  {
   "cell_type": "markdown",
   "metadata": {},
   "source": [
    "# Imports "
   ]
  },
  {
   "cell_type": "code",
   "execution_count": 1,
   "metadata": {
    "execution": {
     "iopub.execute_input": "2021-05-12T04:07:11.401915Z",
     "iopub.status.busy": "2021-05-12T04:07:11.401915Z",
     "iopub.status.idle": "2021-05-12T04:07:28.556267Z",
     "shell.execute_reply": "2021-05-12T04:07:28.556267Z",
     "shell.execute_reply.started": "2021-05-12T04:07:11.401915Z"
    },
    "tags": []
   },
   "outputs": [],
   "source": [
    "import numpy as np # numpy 배열\n",
    "import os # 파일 및 폴더의 경로 지정을 위한 모듈\n",
    "import tensorflow as tf # 텐서플로우\n",
    "from tensorflow import keras # 케라스\n",
    "import time #프로세스 소요시간 표시 목적\n",
    "import random"
   ]
  },
  {
   "cell_type": "markdown",
   "metadata": {},
   "source": [
    "# 데이터 불러오기 : data_training_ar, data_test_ar\n",
    "* **`data_training_ar`**, **`data_test_ar`** : (동영상 개수, 프레임 수, 이미지 크기, 이미지 크기, RGB)"
   ]
  },
  {
   "cell_type": "code",
   "execution_count": 2,
   "metadata": {
    "execution": {
     "iopub.execute_input": "2021-05-12T04:07:28.556267Z",
     "iopub.status.busy": "2021-05-12T04:07:28.556267Z",
     "iopub.status.idle": "2021-05-12T04:09:21.213807Z",
     "shell.execute_reply": "2021-05-12T04:09:21.213807Z",
     "shell.execute_reply.started": "2021-05-12T04:07:28.556267Z"
    },
    "tags": []
   },
   "outputs": [
    {
     "data": {
      "text/plain": [
       "(2878, 30, 160, 160, 3)"
      ]
     },
     "execution_count": 2,
     "metadata": {},
     "output_type": "execute_result"
    }
   ],
   "source": [
    "data_training_ar=np.load('D:/datasets/AllVideo_numpy_list_pickle/02_data_training_Numpy_210512.npy') \n",
    "data_training_ar.shape #> (2878, 30, 160, 160, 3) "
   ]
  },
  {
   "cell_type": "code",
   "execution_count": 3,
   "metadata": {
    "execution": {
     "iopub.execute_input": "2021-05-12T04:09:21.231613Z",
     "iopub.status.busy": "2021-05-12T04:09:21.231613Z",
     "iopub.status.idle": "2021-05-12T04:09:51.413334Z",
     "shell.execute_reply": "2021-05-12T04:09:51.412336Z",
     "shell.execute_reply.started": "2021-05-12T04:09:21.231613Z"
    },
    "tags": []
   },
   "outputs": [
    {
     "data": {
      "text/plain": [
       "(720, 30, 160, 160, 3)"
      ]
     },
     "execution_count": 3,
     "metadata": {},
     "output_type": "execute_result"
    }
   ],
   "source": [
    "data_test_ar=np.load('D:/datasets/AllVideo_numpy_list_pickle/02_data_test_Numpy_210512.npy') \n",
    "data_test_ar.shape #> (720, 30, 160, 160, 3)"
   ]
  },
  {
   "cell_type": "markdown",
   "metadata": {},
   "source": [
    "# 데이터 reshape"
   ]
  },
  {
   "cell_type": "code",
   "execution_count": 4,
   "metadata": {
    "execution": {
     "iopub.execute_input": "2021-05-12T04:09:51.415358Z",
     "iopub.status.busy": "2021-05-12T04:09:51.415358Z",
     "iopub.status.idle": "2021-05-12T04:09:51.444252Z",
     "shell.execute_reply": "2021-05-12T04:09:51.444252Z",
     "shell.execute_reply.started": "2021-05-12T04:09:51.415358Z"
    },
    "tags": []
   },
   "outputs": [
    {
     "data": {
      "text/plain": [
       "(86340, 160, 160, 3)"
      ]
     },
     "execution_count": 4,
     "metadata": {},
     "output_type": "execute_result"
    }
   ],
   "source": [
    "data_training_ar=data_training_ar.reshape(data_training_ar.shape[0]*30, 160, 160, 3) \n",
    "data_training_ar.shape #> (86340, 160, 160, 3)"
   ]
  },
  {
   "cell_type": "code",
   "execution_count": 5,
   "metadata": {
    "execution": {
     "iopub.execute_input": "2021-05-12T04:09:51.458214Z",
     "iopub.status.busy": "2021-05-12T04:09:51.458214Z",
     "iopub.status.idle": "2021-05-12T04:09:51.475176Z",
     "shell.execute_reply": "2021-05-12T04:09:51.474177Z",
     "shell.execute_reply.started": "2021-05-12T04:09:51.458214Z"
    },
    "tags": []
   },
   "outputs": [
    {
     "data": {
      "text/plain": [
       "(21600, 160, 160, 3)"
      ]
     },
     "execution_count": 5,
     "metadata": {},
     "output_type": "execute_result"
    }
   ],
   "source": [
    "data_test_ar=data_test_ar.reshape(data_test_ar.shape[0]*30, 160, 160, 3) \n",
    "data_test_ar.shape #> (21600, 160, 160, 3)"
   ]
  },
  {
   "cell_type": "markdown",
   "metadata": {},
   "source": [
    "# 베이스모델 생성 : MobileNet"
   ]
  },
  {
   "cell_type": "code",
   "execution_count": 6,
   "metadata": {
    "execution": {
     "iopub.execute_input": "2021-05-12T04:09:51.492476Z",
     "iopub.status.busy": "2021-05-12T04:09:51.489484Z",
     "iopub.status.idle": "2021-05-12T04:09:52.889151Z",
     "shell.execute_reply": "2021-05-12T04:09:52.889031Z",
     "shell.execute_reply.started": "2021-05-12T04:09:51.492476Z"
    },
    "tags": []
   },
   "outputs": [],
   "source": [
    "base_model=keras.applications.mobilenet.MobileNet(input_shape=(160, 160, 3),\n",
    "                                                  include_top=False,\n",
    "                                                  weights='imagenet', classes=2)"
   ]
  },
  {
   "cell_type": "code",
   "execution_count": 7,
   "metadata": {
    "execution": {
     "iopub.execute_input": "2021-05-12T04:09:52.891179Z",
     "iopub.status.busy": "2021-05-12T04:09:52.891179Z",
     "iopub.status.idle": "2021-05-12T04:09:52.935587Z",
     "shell.execute_reply": "2021-05-12T04:09:52.935587Z",
     "shell.execute_reply.started": "2021-05-12T04:09:52.891179Z"
    },
    "tags": []
   },
   "outputs": [
    {
     "name": "stdout",
     "output_type": "stream",
     "text": [
      "Model: \"mobilenet_1.00_160\"\n",
      "_________________________________________________________________\n",
      "Layer (type)                 Output Shape              Param #   \n",
      "=================================================================\n",
      "input_1 (InputLayer)         [(None, 160, 160, 3)]     0         \n",
      "_________________________________________________________________\n",
      "conv1 (Conv2D)               (None, 80, 80, 32)        864       \n",
      "_________________________________________________________________\n",
      "conv1_bn (BatchNormalization (None, 80, 80, 32)        128       \n",
      "_________________________________________________________________\n",
      "conv1_relu (ReLU)            (None, 80, 80, 32)        0         \n",
      "_________________________________________________________________\n",
      "conv_dw_1 (DepthwiseConv2D)  (None, 80, 80, 32)        288       \n",
      "_________________________________________________________________\n",
      "conv_dw_1_bn (BatchNormaliza (None, 80, 80, 32)        128       \n",
      "_________________________________________________________________\n",
      "conv_dw_1_relu (ReLU)        (None, 80, 80, 32)        0         \n",
      "_________________________________________________________________\n",
      "conv_pw_1 (Conv2D)           (None, 80, 80, 64)        2048      \n",
      "_________________________________________________________________\n",
      "conv_pw_1_bn (BatchNormaliza (None, 80, 80, 64)        256       \n",
      "_________________________________________________________________\n",
      "conv_pw_1_relu (ReLU)        (None, 80, 80, 64)        0         \n",
      "_________________________________________________________________\n",
      "conv_pad_2 (ZeroPadding2D)   (None, 81, 81, 64)        0         \n",
      "_________________________________________________________________\n",
      "conv_dw_2 (DepthwiseConv2D)  (None, 40, 40, 64)        576       \n",
      "_________________________________________________________________\n",
      "conv_dw_2_bn (BatchNormaliza (None, 40, 40, 64)        256       \n",
      "_________________________________________________________________\n",
      "conv_dw_2_relu (ReLU)        (None, 40, 40, 64)        0         \n",
      "_________________________________________________________________\n",
      "conv_pw_2 (Conv2D)           (None, 40, 40, 128)       8192      \n",
      "_________________________________________________________________\n",
      "conv_pw_2_bn (BatchNormaliza (None, 40, 40, 128)       512       \n",
      "_________________________________________________________________\n",
      "conv_pw_2_relu (ReLU)        (None, 40, 40, 128)       0         \n",
      "_________________________________________________________________\n",
      "conv_dw_3 (DepthwiseConv2D)  (None, 40, 40, 128)       1152      \n",
      "_________________________________________________________________\n",
      "conv_dw_3_bn (BatchNormaliza (None, 40, 40, 128)       512       \n",
      "_________________________________________________________________\n",
      "conv_dw_3_relu (ReLU)        (None, 40, 40, 128)       0         \n",
      "_________________________________________________________________\n",
      "conv_pw_3 (Conv2D)           (None, 40, 40, 128)       16384     \n",
      "_________________________________________________________________\n",
      "conv_pw_3_bn (BatchNormaliza (None, 40, 40, 128)       512       \n",
      "_________________________________________________________________\n",
      "conv_pw_3_relu (ReLU)        (None, 40, 40, 128)       0         \n",
      "_________________________________________________________________\n",
      "conv_pad_4 (ZeroPadding2D)   (None, 41, 41, 128)       0         \n",
      "_________________________________________________________________\n",
      "conv_dw_4 (DepthwiseConv2D)  (None, 20, 20, 128)       1152      \n",
      "_________________________________________________________________\n",
      "conv_dw_4_bn (BatchNormaliza (None, 20, 20, 128)       512       \n",
      "_________________________________________________________________\n",
      "conv_dw_4_relu (ReLU)        (None, 20, 20, 128)       0         \n",
      "_________________________________________________________________\n",
      "conv_pw_4 (Conv2D)           (None, 20, 20, 256)       32768     \n",
      "_________________________________________________________________\n",
      "conv_pw_4_bn (BatchNormaliza (None, 20, 20, 256)       1024      \n",
      "_________________________________________________________________\n",
      "conv_pw_4_relu (ReLU)        (None, 20, 20, 256)       0         \n",
      "_________________________________________________________________\n",
      "conv_dw_5 (DepthwiseConv2D)  (None, 20, 20, 256)       2304      \n",
      "_________________________________________________________________\n",
      "conv_dw_5_bn (BatchNormaliza (None, 20, 20, 256)       1024      \n",
      "_________________________________________________________________\n",
      "conv_dw_5_relu (ReLU)        (None, 20, 20, 256)       0         \n",
      "_________________________________________________________________\n",
      "conv_pw_5 (Conv2D)           (None, 20, 20, 256)       65536     \n",
      "_________________________________________________________________\n",
      "conv_pw_5_bn (BatchNormaliza (None, 20, 20, 256)       1024      \n",
      "_________________________________________________________________\n",
      "conv_pw_5_relu (ReLU)        (None, 20, 20, 256)       0         \n",
      "_________________________________________________________________\n",
      "conv_pad_6 (ZeroPadding2D)   (None, 21, 21, 256)       0         \n",
      "_________________________________________________________________\n",
      "conv_dw_6 (DepthwiseConv2D)  (None, 10, 10, 256)       2304      \n",
      "_________________________________________________________________\n",
      "conv_dw_6_bn (BatchNormaliza (None, 10, 10, 256)       1024      \n",
      "_________________________________________________________________\n",
      "conv_dw_6_relu (ReLU)        (None, 10, 10, 256)       0         \n",
      "_________________________________________________________________\n",
      "conv_pw_6 (Conv2D)           (None, 10, 10, 512)       131072    \n",
      "_________________________________________________________________\n",
      "conv_pw_6_bn (BatchNormaliza (None, 10, 10, 512)       2048      \n",
      "_________________________________________________________________\n",
      "conv_pw_6_relu (ReLU)        (None, 10, 10, 512)       0         \n",
      "_________________________________________________________________\n",
      "conv_dw_7 (DepthwiseConv2D)  (None, 10, 10, 512)       4608      \n",
      "_________________________________________________________________\n",
      "conv_dw_7_bn (BatchNormaliza (None, 10, 10, 512)       2048      \n",
      "_________________________________________________________________\n",
      "conv_dw_7_relu (ReLU)        (None, 10, 10, 512)       0         \n",
      "_________________________________________________________________\n",
      "conv_pw_7 (Conv2D)           (None, 10, 10, 512)       262144    \n",
      "_________________________________________________________________\n",
      "conv_pw_7_bn (BatchNormaliza (None, 10, 10, 512)       2048      \n",
      "_________________________________________________________________\n",
      "conv_pw_7_relu (ReLU)        (None, 10, 10, 512)       0         \n",
      "_________________________________________________________________\n",
      "conv_dw_8 (DepthwiseConv2D)  (None, 10, 10, 512)       4608      \n",
      "_________________________________________________________________\n",
      "conv_dw_8_bn (BatchNormaliza (None, 10, 10, 512)       2048      \n",
      "_________________________________________________________________\n",
      "conv_dw_8_relu (ReLU)        (None, 10, 10, 512)       0         \n",
      "_________________________________________________________________\n",
      "conv_pw_8 (Conv2D)           (None, 10, 10, 512)       262144    \n",
      "_________________________________________________________________\n",
      "conv_pw_8_bn (BatchNormaliza (None, 10, 10, 512)       2048      \n",
      "_________________________________________________________________\n",
      "conv_pw_8_relu (ReLU)        (None, 10, 10, 512)       0         \n",
      "_________________________________________________________________\n",
      "conv_dw_9 (DepthwiseConv2D)  (None, 10, 10, 512)       4608      \n",
      "_________________________________________________________________\n",
      "conv_dw_9_bn (BatchNormaliza (None, 10, 10, 512)       2048      \n",
      "_________________________________________________________________\n",
      "conv_dw_9_relu (ReLU)        (None, 10, 10, 512)       0         \n",
      "_________________________________________________________________\n",
      "conv_pw_9 (Conv2D)           (None, 10, 10, 512)       262144    \n",
      "_________________________________________________________________\n",
      "conv_pw_9_bn (BatchNormaliza (None, 10, 10, 512)       2048      \n",
      "_________________________________________________________________\n",
      "conv_pw_9_relu (ReLU)        (None, 10, 10, 512)       0         \n",
      "_________________________________________________________________\n",
      "conv_dw_10 (DepthwiseConv2D) (None, 10, 10, 512)       4608      \n",
      "_________________________________________________________________\n",
      "conv_dw_10_bn (BatchNormaliz (None, 10, 10, 512)       2048      \n",
      "_________________________________________________________________\n",
      "conv_dw_10_relu (ReLU)       (None, 10, 10, 512)       0         \n",
      "_________________________________________________________________\n",
      "conv_pw_10 (Conv2D)          (None, 10, 10, 512)       262144    \n",
      "_________________________________________________________________\n",
      "conv_pw_10_bn (BatchNormaliz (None, 10, 10, 512)       2048      \n",
      "_________________________________________________________________\n",
      "conv_pw_10_relu (ReLU)       (None, 10, 10, 512)       0         \n",
      "_________________________________________________________________\n",
      "conv_dw_11 (DepthwiseConv2D) (None, 10, 10, 512)       4608      \n",
      "_________________________________________________________________\n",
      "conv_dw_11_bn (BatchNormaliz (None, 10, 10, 512)       2048      \n",
      "_________________________________________________________________\n",
      "conv_dw_11_relu (ReLU)       (None, 10, 10, 512)       0         \n",
      "_________________________________________________________________\n",
      "conv_pw_11 (Conv2D)          (None, 10, 10, 512)       262144    \n",
      "_________________________________________________________________\n",
      "conv_pw_11_bn (BatchNormaliz (None, 10, 10, 512)       2048      \n",
      "_________________________________________________________________\n",
      "conv_pw_11_relu (ReLU)       (None, 10, 10, 512)       0         \n",
      "_________________________________________________________________\n",
      "conv_pad_12 (ZeroPadding2D)  (None, 11, 11, 512)       0         \n",
      "_________________________________________________________________\n",
      "conv_dw_12 (DepthwiseConv2D) (None, 5, 5, 512)         4608      \n",
      "_________________________________________________________________\n",
      "conv_dw_12_bn (BatchNormaliz (None, 5, 5, 512)         2048      \n",
      "_________________________________________________________________\n",
      "conv_dw_12_relu (ReLU)       (None, 5, 5, 512)         0         \n",
      "_________________________________________________________________\n",
      "conv_pw_12 (Conv2D)          (None, 5, 5, 1024)        524288    \n",
      "_________________________________________________________________\n",
      "conv_pw_12_bn (BatchNormaliz (None, 5, 5, 1024)        4096      \n",
      "_________________________________________________________________\n",
      "conv_pw_12_relu (ReLU)       (None, 5, 5, 1024)        0         \n",
      "_________________________________________________________________\n",
      "conv_dw_13 (DepthwiseConv2D) (None, 5, 5, 1024)        9216      \n",
      "_________________________________________________________________\n",
      "conv_dw_13_bn (BatchNormaliz (None, 5, 5, 1024)        4096      \n",
      "_________________________________________________________________\n",
      "conv_dw_13_relu (ReLU)       (None, 5, 5, 1024)        0         \n",
      "_________________________________________________________________\n",
      "conv_pw_13 (Conv2D)          (None, 5, 5, 1024)        1048576   \n",
      "_________________________________________________________________\n",
      "conv_pw_13_bn (BatchNormaliz (None, 5, 5, 1024)        4096      \n",
      "_________________________________________________________________\n",
      "conv_pw_13_relu (ReLU)       (None, 5, 5, 1024)        0         \n",
      "=================================================================\n",
      "Total params: 3,228,864\n",
      "Trainable params: 3,206,976\n",
      "Non-trainable params: 21,888\n",
      "_________________________________________________________________\n"
     ]
    }
   ],
   "source": [
    "base_model.summary() #> (None, 5, 5, 1024)"
   ]
  },
  {
   "cell_type": "markdown",
   "metadata": {},
   "source": [
    "# Xception에 각 프레임 이미지 투입, 변환 : predict\n",
    "* **`Xeption_X_train`**, **`Xeption_X_test`** 생성"
   ]
  },
  {
   "cell_type": "code",
   "execution_count": 8,
   "metadata": {
    "execution": {
     "iopub.execute_input": "2021-05-12T04:09:52.936561Z",
     "iopub.status.busy": "2021-05-12T04:09:52.936561Z",
     "iopub.status.idle": "2021-05-12T04:09:52.951591Z",
     "shell.execute_reply": "2021-05-12T04:09:52.951591Z",
     "shell.execute_reply.started": "2021-05-12T04:09:52.936561Z"
    },
    "tags": []
   },
   "outputs": [],
   "source": [
    "np.random.seed(42)"
   ]
  },
  {
   "cell_type": "code",
   "execution_count": 9,
   "metadata": {
    "execution": {
     "iopub.execute_input": "2021-05-12T04:09:52.955603Z",
     "iopub.status.busy": "2021-05-12T04:09:52.954558Z",
     "iopub.status.idle": "2021-05-12T04:22:48.277548Z",
     "shell.execute_reply": "2021-05-12T04:22:48.277548Z",
     "shell.execute_reply.started": "2021-05-12T04:09:52.955603Z"
    },
    "tags": []
   },
   "outputs": [
    {
     "data": {
      "text/plain": [
       "(86340, 5, 5, 1024)"
      ]
     },
     "execution_count": 9,
     "metadata": {},
     "output_type": "execute_result"
    }
   ],
   "source": [
    "X_train=base_model.predict(data_training_ar) #> 여기서 매우 큰 메모리 부족을 겪는다.\n",
    "X_train.shape #> (86340, 5, 5, 1024)"
   ]
  },
  {
   "cell_type": "code",
   "execution_count": 10,
   "metadata": {
    "execution": {
     "iopub.execute_input": "2021-05-12T04:22:48.293142Z",
     "iopub.status.busy": "2021-05-12T04:22:48.293142Z",
     "iopub.status.idle": "2021-05-12T04:25:13.093066Z",
     "shell.execute_reply": "2021-05-12T04:25:13.090042Z",
     "shell.execute_reply.started": "2021-05-12T04:22:48.293142Z"
    },
    "tags": []
   },
   "outputs": [
    {
     "data": {
      "text/plain": [
       "(21600, 5, 5, 1024)"
      ]
     },
     "execution_count": 10,
     "metadata": {},
     "output_type": "execute_result"
    }
   ],
   "source": [
    "X_test=base_model.predict(data_test_ar)\n",
    "X_test.shape #> (21600, 5, 5, 1024)"
   ]
  },
  {
   "cell_type": "code",
   "execution_count": 11,
   "metadata": {
    "execution": {
     "iopub.execute_input": "2021-05-12T04:25:13.108991Z",
     "iopub.status.busy": "2021-05-12T04:25:13.107993Z",
     "iopub.status.idle": "2021-05-12T04:25:13.176810Z",
     "shell.execute_reply": "2021-05-12T04:25:13.176810Z",
     "shell.execute_reply.started": "2021-05-12T04:25:13.108991Z"
    },
    "tags": []
   },
   "outputs": [],
   "source": [
    "#np.save('D:/datasets/AllVideo_numpy_list_pickle/Xception_x_train.npy', X_train)"
   ]
  },
  {
   "cell_type": "code",
   "execution_count": 12,
   "metadata": {
    "execution": {
     "iopub.execute_input": "2021-05-12T04:25:13.183824Z",
     "iopub.status.busy": "2021-05-12T04:25:13.180799Z",
     "iopub.status.idle": "2021-05-12T04:25:13.207727Z",
     "shell.execute_reply": "2021-05-12T04:25:13.207727Z",
     "shell.execute_reply.started": "2021-05-12T04:25:13.183824Z"
    },
    "tags": []
   },
   "outputs": [],
   "source": [
    "#np.save('D:/datasets/AllVideo_numpy_list_pickle/Xception_x_test.npy', X_test)"
   ]
  },
  {
   "cell_type": "markdown",
   "metadata": {},
   "source": [
    "# LSTM에 투입할 수 있게끔 MobileNet를 통과한 결과물을 reshape\n",
    "* LSTM 모델에 투입하여 훈련시키려면 : (파일개수, 프레임 수(=30), 25600) 형태의 ndarray 배열이어야 합니다."
   ]
  },
  {
   "cell_type": "code",
   "execution_count": 13,
   "metadata": {
    "execution": {
     "iopub.execute_input": "2021-05-12T04:25:13.208724Z",
     "iopub.status.busy": "2021-05-12T04:25:13.208724Z",
     "iopub.status.idle": "2021-05-12T04:25:13.346427Z",
     "shell.execute_reply": "2021-05-12T04:25:13.346427Z",
     "shell.execute_reply.started": "2021-05-12T04:25:13.208724Z"
    },
    "tags": []
   },
   "outputs": [],
   "source": [
    "# reshaping the training as well as validation frames in single dimension\n",
    "X_train_reshaped = X_train.reshape(int(X_train.shape[0]/30), 30, 5*5*1024) #> (2878, 30, 25600) ndarray"
   ]
  },
  {
   "cell_type": "code",
   "execution_count": 14,
   "metadata": {
    "execution": {
     "iopub.execute_input": "2021-05-12T04:25:13.347390Z",
     "iopub.status.busy": "2021-05-12T04:25:13.347390Z",
     "iopub.status.idle": "2021-05-12T04:25:13.361565Z",
     "shell.execute_reply": "2021-05-12T04:25:13.361565Z",
     "shell.execute_reply.started": "2021-05-12T04:25:13.347390Z"
    },
    "tags": []
   },
   "outputs": [],
   "source": [
    "X_test_reshaped = X_test.reshape(int(X_test.shape[0]/30), 30, 5*5*1024) #> (720, 30, 25600) ndarray"
   ]
  },
  {
   "cell_type": "code",
   "execution_count": 15,
   "metadata": {
    "execution": {
     "iopub.execute_input": "2021-05-12T04:25:13.365547Z",
     "iopub.status.busy": "2021-05-12T04:25:13.365547Z",
     "iopub.status.idle": "2021-05-12T04:25:13.377101Z",
     "shell.execute_reply": "2021-05-12T04:25:13.377101Z",
     "shell.execute_reply.started": "2021-05-12T04:25:13.365547Z"
    },
    "tags": []
   },
   "outputs": [
    {
     "data": {
      "text/plain": [
       "((2878, 30, 25600), (720, 30, 25600))"
      ]
     },
     "execution_count": 15,
     "metadata": {},
     "output_type": "execute_result"
    }
   ],
   "source": [
    "X_train_reshaped.shape, X_test_reshaped.shape"
   ]
  },
  {
   "cell_type": "code",
   "execution_count": 16,
   "metadata": {
    "execution": {
     "iopub.execute_input": "2021-05-12T04:25:13.378099Z",
     "iopub.status.busy": "2021-05-12T04:25:13.378099Z",
     "iopub.status.idle": "2021-05-12T04:26:35.838146Z",
     "shell.execute_reply": "2021-05-12T04:26:35.838146Z",
     "shell.execute_reply.started": "2021-05-12T04:25:13.378099Z"
    },
    "tags": []
   },
   "outputs": [],
   "source": [
    "np.save('D:/datasets/AllVideo_numpy_list_pickle/MobileNet_x_train_reshaped_210512.npy', X_train_reshaped)"
   ]
  },
  {
   "cell_type": "code",
   "execution_count": 17,
   "metadata": {
    "execution": {
     "iopub.execute_input": "2021-05-12T04:26:35.838146Z",
     "iopub.status.busy": "2021-05-12T04:26:35.838146Z",
     "iopub.status.idle": "2021-05-12T04:26:50.779646Z",
     "shell.execute_reply": "2021-05-12T04:26:50.779646Z",
     "shell.execute_reply.started": "2021-05-12T04:26:35.838146Z"
    },
    "tags": []
   },
   "outputs": [],
   "source": [
    "np.save('D:/datasets/AllVideo_numpy_list_pickle/MobileNet_x_test_reshaped_210512.npy', X_test_reshaped)"
   ]
  }
 ],
 "metadata": {
  "kernelspec": {
   "display_name": "Python 3",
   "language": "python",
   "name": "python3"
  },
  "language_info": {
   "codemirror_mode": {
    "name": "ipython",
    "version": 3
   },
   "file_extension": ".py",
   "mimetype": "text/x-python",
   "name": "python",
   "nbconvert_exporter": "python",
   "pygments_lexer": "ipython3",
   "version": "3.8.5"
  }
 },
 "nbformat": 4,
 "nbformat_minor": 4
}
