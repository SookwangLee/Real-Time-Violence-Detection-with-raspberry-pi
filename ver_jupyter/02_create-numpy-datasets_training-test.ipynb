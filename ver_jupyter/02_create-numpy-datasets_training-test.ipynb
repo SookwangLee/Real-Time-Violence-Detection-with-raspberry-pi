{
 "cells": [
  {
   "cell_type": "markdown",
   "metadata": {},
   "source": [
    "# 02. Making Train set & Test set\n",
    "* Before run this file, Please check this:\n",
    "    * 01_video-to-numpy-save.ipynb\n",
    "    * **`Are those files exist on there?`** Those files were made by 01_video_to_numpy_save.ipynb\n",
    "        * 01_data_Fight_210512.pickle\n",
    "        * 01_label_Fight_210512.pickle\n",
    "        * 01_data_NonFight_210507.pickle\n",
    "        * 01_label_NonFight_210507.pickle"
   ]
  },
  {
   "cell_type": "markdown",
   "metadata": {},
   "source": [
    "# imports"
   ]
  },
  {
   "cell_type": "code",
   "execution_count": 1,
   "metadata": {
    "execution": {
     "iopub.execute_input": "2021-05-12T02:53:14.097084Z",
     "iopub.status.busy": "2021-05-12T02:53:14.097084Z",
     "iopub.status.idle": "2021-05-12T02:53:16.374164Z",
     "shell.execute_reply": "2021-05-12T02:53:16.374164Z",
     "shell.execute_reply.started": "2021-05-12T02:53:14.097084Z"
    },
    "tags": []
   },
   "outputs": [],
   "source": [
    "import numpy as np\n",
    "import pickle\n",
    "from random import shuffle"
   ]
  },
  {
   "cell_type": "markdown",
   "metadata": {},
   "source": [
    "# 02-A. Load Fight / NonFight Video Pickle Files\n",
    "* Files are saved from 21XXXX_01_video-to-numpy-save.ipynb\n",
    "    * **data_Fight.pickle** : List of Fight video's frame image Numpy arrays\n",
    "    * **data_NonFight.pickle** : List of NonFight video's frame image Numpy arrays\n",
    "    * **label_Fight.pickle** : List of Fight video's label Numpy arrays\n",
    "    * **label_NonFight.pickle** : List of NonFight video's label Numpy arrays\n",
    "* **`The reason why I repeated saving and loading .pickle is`** :\n",
    "    * Just, because of RAM & memory issues.\n",
    "    * When I ran those codes, my desktop had 16GB RAM, 100GB rest capacity in C:, and 1TB D: drive."
   ]
  },
  {
   "cell_type": "code",
   "execution_count": null,
   "metadata": {
    "tags": []
   },
   "outputs": [],
   "source": [
    "# Fight Video frames Numpy array list\n",
    "with open(\"D:/datasets/AllVideo_numpy_list_pickle/01_data_Fight_210512.pickle\",\"rb\") as fr:\n",
    "    data_Fight=pickle.load(fr)\n",
    "print(len(data_Fight))"
   ]
  },
  {
   "cell_type": "code",
   "execution_count": null,
   "metadata": {
    "tags": []
   },
   "outputs": [],
   "source": [
    "# NonFight Video frames Numpy array list\n",
    "with open(\"D:/datasets/AllVideo_numpy_list_pickle/01_label_Fight_210512.pickle\",\"rb\") as fr:\n",
    "    label_Fight=pickle.load(fr)\n",
    "print(len(label_Fight))"
   ]
  },
  {
   "cell_type": "code",
   "execution_count": null,
   "metadata": {
    "tags": []
   },
   "outputs": [],
   "source": [
    "# Fight label Numpy array list\n",
    "with open(\"D:/datasets/AllVideo_numpy_list_pickle/01_data_NonFight_210507.pickle\",\"rb\") as fr:\n",
    "    data_NonFight=pickle.load(fr)\n",
    "print(len(data_NonFight))"
   ]
  },
  {
   "cell_type": "code",
   "execution_count": null,
   "metadata": {
    "tags": []
   },
   "outputs": [],
   "source": [
    "# NonFight label Numpy array list\n",
    "with open(\"D:/datasets/AllVideo_numpy_list_pickle/01_label_NonFight_210507.pickle\",\"rb\") as fr:\n",
    "    label_NonFight=pickle.load(fr)\n",
    "print(len(label_NonFight))"
   ]
  },
  {
   "cell_type": "markdown",
   "metadata": {},
   "source": [
    "# 02-B. Merge data & Random Shuffle"
   ]
  },
  {
   "cell_type": "markdown",
   "metadata": {},
   "source": [
    "## 1. Merge data : Fight + NonFight"
   ]
  },
  {
   "cell_type": "code",
   "execution_count": null,
   "metadata": {
    "tags": []
   },
   "outputs": [],
   "source": [
    "data_total=data_Fight+data_NonFight\n",
    "print(len(data_total))"
   ]
  },
  {
   "cell_type": "code",
   "execution_count": null,
   "metadata": {
    "tags": []
   },
   "outputs": [],
   "source": [
    "label_total=label_Fight+label_NonFight\n",
    "print(len(label_total))"
   ]
  },
  {
   "cell_type": "markdown",
   "metadata": {},
   "source": [
    "## 2. Shuffle merged dataset"
   ]
  },
  {
   "cell_type": "code",
   "execution_count": null,
   "metadata": {
    "tags": []
   },
   "outputs": [],
   "source": [
    "np.random.seed(42)"
   ]
  },
  {
   "cell_type": "code",
   "execution_count": null,
   "metadata": {
    "tags": []
   },
   "outputs": [],
   "source": [
    "c=list(zip(data_total, label_total)) # zip : elements \n",
    "shuffle(c) # 셔플(무작위 섞기) : 파일이름, 레이블\n",
    "data_total, label_total=zip(*c) # c를 풀어 주어 names, labels를 만든다는 뜻으로 보인다. unpacking"
   ]
  },
  {
   "cell_type": "markdown",
   "metadata": {},
   "source": [
    "## 3. save shuffled dataset as .pickle\n",
    "* **`pickle.dump(protocol=pickle.HIGHEST_PROTOCOL)`** : You can solve lack of memory issue when pickle save process"
   ]
  },
  {
   "cell_type": "code",
   "execution_count": null,
   "metadata": {
    "tags": []
   },
   "outputs": [],
   "source": [
    "# Save data\n",
    "with open(\"D:/datasets/AllVideo_numpy_list_pickle/02_data_total_210512.pickle\",\"wb\") as fw:\n",
    "    pickle.dump(data_total, fw, protocol=pickle.HIGHEST_PROTOCOL)"
   ]
  },
  {
   "cell_type": "code",
   "execution_count": null,
   "metadata": {
    "tags": []
   },
   "outputs": [],
   "source": [
    "# Save label\n",
    "with open(\"D:/datasets/AllVideo_numpy_list_pickle/02_label_total_210512.pickle\",\"wb\") as fw:\n",
    "    pickle.dump(label_total, fw)"
   ]
  },
  {
   "cell_type": "markdown",
   "metadata": {},
   "source": [
    "# 02-C. Split training set / test set"
   ]
  },
  {
   "cell_type": "markdown",
   "metadata": {},
   "source": [
    "## 1. Load shuffled dataset(.pickle)\n",
    "* **`The reason why I repeated saving and loading .pickle is`** :\n",
    "    * Just, because of RAM & memory issues."
   ]
  },
  {
   "cell_type": "code",
   "execution_count": 2,
   "metadata": {
    "execution": {
     "iopub.execute_input": "2021-05-12T02:22:24.526848Z",
     "iopub.status.busy": "2021-05-12T02:22:24.526848Z",
     "iopub.status.idle": "2021-05-12T02:31:59.775642Z",
     "shell.execute_reply": "2021-05-12T02:31:59.744435Z",
     "shell.execute_reply.started": "2021-05-12T02:22:24.526848Z"
    },
    "tags": []
   },
   "outputs": [],
   "source": [
    "# load data\n",
    "with open(\"D:/datasets/AllVideo_numpy_list_pickle/02_data_total_210512.pickle\",\"rb\") as fr:\n",
    "    data_total=pickle.load(fr)"
   ]
  },
  {
   "cell_type": "code",
   "execution_count": 3,
   "metadata": {
    "execution": {
     "iopub.execute_input": "2021-05-12T02:31:59.810624Z",
     "iopub.status.busy": "2021-05-12T02:31:59.810081Z",
     "iopub.status.idle": "2021-05-12T02:31:59.958227Z",
     "shell.execute_reply": "2021-05-12T02:31:59.958227Z",
     "shell.execute_reply.started": "2021-05-12T02:31:59.810624Z"
    },
    "tags": []
   },
   "outputs": [],
   "source": [
    "# load label\n",
    "with open(\"D:/datasets/AllVideo_numpy_list_pickle/02_label_total_210512.pickle\",\"rb\") as fr:\n",
    "    label_total=pickle.load(fr)"
   ]
  },
  {
   "cell_type": "markdown",
   "metadata": {},
   "source": [
    "## 2. Split dataset as training set / test set (8:2 ratio)"
   ]
  },
  {
   "cell_type": "markdown",
   "metadata": {},
   "source": [
    "### 1) The number of training set, test set"
   ]
  },
  {
   "cell_type": "code",
   "execution_count": 4,
   "metadata": {
    "execution": {
     "iopub.execute_input": "2021-05-12T02:31:59.961047Z",
     "iopub.status.busy": "2021-05-12T02:31:59.961047Z",
     "iopub.status.idle": "2021-05-12T02:32:00.003690Z",
     "shell.execute_reply": "2021-05-12T02:32:00.003690Z",
     "shell.execute_reply.started": "2021-05-12T02:31:59.961047Z"
    },
    "tags": []
   },
   "outputs": [],
   "source": [
    "training_set=int(len(data_total)*0.8)\n",
    "test_set=int(len(data_total)*0.2)"
   ]
  },
  {
   "cell_type": "code",
   "execution_count": 5,
   "metadata": {
    "execution": {
     "iopub.execute_input": "2021-05-12T02:32:00.029779Z",
     "iopub.status.busy": "2021-05-12T02:32:00.029779Z",
     "iopub.status.idle": "2021-05-12T02:32:00.091169Z",
     "shell.execute_reply": "2021-05-12T02:32:00.090171Z",
     "shell.execute_reply.started": "2021-05-12T02:32:00.029779Z"
    },
    "tags": []
   },
   "outputs": [],
   "source": [
    "data_training=data_total[0:training_set] # 훈련 셋 파일 이름들\n",
    "data_test=data_total[training_set:] #테스트 셋 파일 이름들\n",
    "\n",
    "label_training=label_total[0:training_set] #훈련 셋 파일 레이블\n",
    "label_test=label_total[training_set:] #테스트 셋 파일 레이블"
   ]
  },
  {
   "cell_type": "code",
   "execution_count": 6,
   "metadata": {
    "execution": {
     "iopub.execute_input": "2021-05-12T02:32:00.092166Z",
     "iopub.status.busy": "2021-05-12T02:32:00.092166Z",
     "iopub.status.idle": "2021-05-12T02:32:00.178477Z",
     "shell.execute_reply": "2021-05-12T02:32:00.177480Z",
     "shell.execute_reply.started": "2021-05-12T02:32:00.092166Z"
    },
    "tags": []
   },
   "outputs": [
    {
     "data": {
      "text/plain": [
       "(2878, 2878, 720, 720)"
      ]
     },
     "execution_count": 6,
     "metadata": {},
     "output_type": "execute_result"
    }
   ],
   "source": [
    "len(data_training), len(label_training), len(data_test), len(label_test)"
   ]
  },
  {
   "cell_type": "markdown",
   "metadata": {},
   "source": [
    "### 2) Check the shape of elements"
   ]
  },
  {
   "cell_type": "code",
   "execution_count": 7,
   "metadata": {
    "execution": {
     "iopub.execute_input": "2021-05-12T02:32:00.179475Z",
     "iopub.status.busy": "2021-05-12T02:32:00.179475Z",
     "iopub.status.idle": "2021-05-12T02:32:00.193437Z",
     "shell.execute_reply": "2021-05-12T02:32:00.193437Z",
     "shell.execute_reply.started": "2021-05-12T02:32:00.179475Z"
    },
    "tags": []
   },
   "outputs": [
    {
     "data": {
      "text/plain": [
       "((30, 160, 160, 3), (2,))"
      ]
     },
     "execution_count": 7,
     "metadata": {},
     "output_type": "execute_result"
    }
   ],
   "source": [
    "data_training[0].shape, label_training[0].shape"
   ]
  },
  {
   "cell_type": "code",
   "execution_count": 8,
   "metadata": {
    "execution": {
     "iopub.execute_input": "2021-05-12T02:32:00.194434Z",
     "iopub.status.busy": "2021-05-12T02:32:00.194434Z",
     "iopub.status.idle": "2021-05-12T02:32:00.224355Z",
     "shell.execute_reply": "2021-05-12T02:32:00.224355Z",
     "shell.execute_reply.started": "2021-05-12T02:32:00.194434Z"
    },
    "tags": []
   },
   "outputs": [
    {
     "data": {
      "text/plain": [
       "array([[0., 0., 0., ..., 0., 0., 0.],\n",
       "       [0., 0., 0., ..., 0., 0., 0.],\n",
       "       [0., 0., 0., ..., 0., 0., 0.],\n",
       "       ...,\n",
       "       [0., 0., 0., ..., 0., 0., 0.],\n",
       "       [0., 0., 0., ..., 0., 0., 0.],\n",
       "       [0., 0., 0., ..., 0., 0., 0.]])"
      ]
     },
     "execution_count": 8,
     "metadata": {},
     "output_type": "execute_result"
    }
   ],
   "source": [
    "data_training[0][0, :, :, 0]"
   ]
  },
  {
   "cell_type": "markdown",
   "metadata": {},
   "source": [
    "## 3. Save training set & test set as .pickle file\n",
    "* **`The reason why I repeated saving and loading .pickle is`** :\n",
    "    * Just, because of RAM & memory issues."
   ]
  },
  {
   "cell_type": "code",
   "execution_count": 9,
   "metadata": {
    "execution": {
     "iopub.execute_input": "2021-05-12T02:32:00.226349Z",
     "iopub.status.busy": "2021-05-12T02:32:00.226349Z",
     "iopub.status.idle": "2021-05-12T02:40:50.977546Z",
     "shell.execute_reply": "2021-05-12T02:40:50.962049Z",
     "shell.execute_reply.started": "2021-05-12T02:32:00.226349Z"
    },
    "tags": []
   },
   "outputs": [],
   "source": [
    "# training set, data\n",
    "with open(\"D:/datasets/AllVideo_numpy_list_pickle/02_data_training_210512.pickle\",\"wb\") as fw:\n",
    "    pickle.dump(data_training, fw, protocol=pickle.HIGHEST_PROTOCOL)"
   ]
  },
  {
   "cell_type": "code",
   "execution_count": 10,
   "metadata": {
    "execution": {
     "iopub.execute_input": "2021-05-12T02:40:50.993168Z",
     "iopub.status.busy": "2021-05-12T02:40:50.993168Z",
     "iopub.status.idle": "2021-05-12T02:40:51.101726Z",
     "shell.execute_reply": "2021-05-12T02:40:51.101726Z",
     "shell.execute_reply.started": "2021-05-12T02:40:50.993168Z"
    },
    "tags": []
   },
   "outputs": [],
   "source": [
    "# training set, label\n",
    "with open(\"D:/datasets/AllVideo_numpy_list_pickle/02_label_training_210512.pickle\",\"wb\") as fw:\n",
    "    pickle.dump(label_training, fw)"
   ]
  },
  {
   "cell_type": "code",
   "execution_count": 11,
   "metadata": {
    "execution": {
     "iopub.execute_input": "2021-05-12T02:40:51.163303Z",
     "iopub.status.busy": "2021-05-12T02:40:51.162305Z",
     "iopub.status.idle": "2021-05-12T02:42:57.569113Z",
     "shell.execute_reply": "2021-05-12T02:42:57.569113Z",
     "shell.execute_reply.started": "2021-05-12T02:40:51.163303Z"
    },
    "tags": []
   },
   "outputs": [],
   "source": [
    "# test set, data\n",
    "with open(\"D:/datasets/AllVideo_numpy_list_pickle/02_data_test_210512.pickle\",\"wb\") as fw:\n",
    "    pickle.dump(data_test, fw, protocol=pickle.HIGHEST_PROTOCOL)"
   ]
  },
  {
   "cell_type": "code",
   "execution_count": 12,
   "metadata": {
    "execution": {
     "iopub.execute_input": "2021-05-12T02:42:57.594584Z",
     "iopub.status.busy": "2021-05-12T02:42:57.593586Z",
     "iopub.status.idle": "2021-05-12T02:42:57.780007Z",
     "shell.execute_reply": "2021-05-12T02:42:57.780007Z",
     "shell.execute_reply.started": "2021-05-12T02:42:57.594584Z"
    },
    "tags": []
   },
   "outputs": [],
   "source": [
    "# test set, label\n",
    "with open(\"D:/datasets/AllVideo_numpy_list_pickle/02_label_test_210512.pickle\",\"wb\") as fw:\n",
    "    pickle.dump(label_test, fw)"
   ]
  },
  {
   "cell_type": "markdown",
   "metadata": {},
   "source": [
    "# 02-D. Transform dataset as Numpy array"
   ]
  },
  {
   "cell_type": "markdown",
   "metadata": {},
   "source": [
    "## 1. Load training set & test set (.pickle)"
   ]
  },
  {
   "cell_type": "markdown",
   "metadata": {},
   "source": [
    "### 1) Training set : data, label"
   ]
  },
  {
   "cell_type": "code",
   "execution_count": null,
   "metadata": {
    "tags": []
   },
   "outputs": [],
   "source": [
    "with open(\"D:/datasets/AllVideo_numpy_list_pickle/02_data_training_210512.pickle\",\"rb\") as fr:\n",
    "    data_training=pickle.load(fr)"
   ]
  },
  {
   "cell_type": "code",
   "execution_count": null,
   "metadata": {
    "tags": []
   },
   "outputs": [],
   "source": [
    "with open(\"D:/datasets/AllVideo_numpy_list_pickle/02_label_training_210512.pickle\",\"rb\") as fr:\n",
    "    label_training=pickle.load(fr)"
   ]
  },
  {
   "cell_type": "markdown",
   "metadata": {},
   "source": [
    "### 2) Test set : data, label"
   ]
  },
  {
   "cell_type": "code",
   "execution_count": 2,
   "metadata": {
    "execution": {
     "iopub.execute_input": "2021-05-12T02:53:20.799883Z",
     "iopub.status.busy": "2021-05-12T02:53:20.798885Z",
     "iopub.status.idle": "2021-05-12T02:55:22.019540Z",
     "shell.execute_reply": "2021-05-12T02:55:22.003919Z",
     "shell.execute_reply.started": "2021-05-12T02:53:20.799883Z"
    },
    "tags": []
   },
   "outputs": [],
   "source": [
    "with open(\"D:/datasets/AllVideo_numpy_list_pickle/02_data_test_210512.pickle\",\"rb\") as fr:\n",
    "    data_test=pickle.load(fr)"
   ]
  },
  {
   "cell_type": "code",
   "execution_count": 3,
   "metadata": {
    "execution": {
     "iopub.execute_input": "2021-05-12T02:55:22.019540Z",
     "iopub.status.busy": "2021-05-12T02:55:22.019540Z",
     "iopub.status.idle": "2021-05-12T02:55:22.165156Z",
     "shell.execute_reply": "2021-05-12T02:55:22.165156Z",
     "shell.execute_reply.started": "2021-05-12T02:55:22.019540Z"
    },
    "tags": []
   },
   "outputs": [],
   "source": [
    "with open(\"D:/datasets/AllVideo_numpy_list_pickle/02_label_test_210512.pickle\",\"rb\") as fr:\n",
    "    label_test=pickle.load(fr)"
   ]
  },
  {
   "cell_type": "markdown",
   "metadata": {},
   "source": [
    "## 2. Transform training set & test set as Numpy array, and save them (.npy)"
   ]
  },
  {
   "cell_type": "markdown",
   "metadata": {},
   "source": [
    "### 1) Training set"
   ]
  },
  {
   "cell_type": "code",
   "execution_count": 13,
   "metadata": {
    "execution": {
     "iopub.execute_input": "2021-05-12T02:42:57.865035Z",
     "iopub.status.busy": "2021-05-12T02:42:57.865035Z",
     "iopub.status.idle": "2021-05-12T02:48:35.108898Z",
     "shell.execute_reply": "2021-05-12T02:48:35.083939Z",
     "shell.execute_reply.started": "2021-05-12T02:42:57.865035Z"
    },
    "tags": []
   },
   "outputs": [],
   "source": [
    "data_training_ar=np.array(data_training, dtype=np.float16) #> (2878, 30, 160, 160, 3)"
   ]
  },
  {
   "cell_type": "code",
   "execution_count": 14,
   "metadata": {
    "execution": {
     "iopub.execute_input": "2021-05-12T02:48:35.137795Z",
     "iopub.status.busy": "2021-05-12T02:48:35.136798Z",
     "iopub.status.idle": "2021-05-12T02:50:21.815294Z",
     "shell.execute_reply": "2021-05-12T02:50:21.815294Z",
     "shell.execute_reply.started": "2021-05-12T02:48:35.137795Z"
    },
    "tags": []
   },
   "outputs": [],
   "source": [
    "np.save('D:/datasets/AllVideo_numpy_list_pickle/02_data_training_Numpy_210512.npy', data_training_ar)"
   ]
  },
  {
   "cell_type": "code",
   "execution_count": 15,
   "metadata": {
    "execution": {
     "iopub.execute_input": "2021-05-12T02:50:21.815294Z",
     "iopub.status.busy": "2021-05-12T02:50:21.815294Z",
     "iopub.status.idle": "2021-05-12T02:50:21.834224Z",
     "shell.execute_reply": "2021-05-12T02:50:21.831205Z",
     "shell.execute_reply.started": "2021-05-12T02:50:21.815294Z"
    },
    "tags": []
   },
   "outputs": [],
   "source": [
    "label_training_ar=np.array(label_training) #> (2878, 2)"
   ]
  },
  {
   "cell_type": "code",
   "execution_count": 16,
   "metadata": {
    "execution": {
     "iopub.execute_input": "2021-05-12T02:50:21.838185Z",
     "iopub.status.busy": "2021-05-12T02:50:21.838185Z",
     "iopub.status.idle": "2021-05-12T02:50:21.910593Z",
     "shell.execute_reply": "2021-05-12T02:50:21.909595Z",
     "shell.execute_reply.started": "2021-05-12T02:50:21.838185Z"
    },
    "tags": []
   },
   "outputs": [],
   "source": [
    "np.save('D:/datasets/AllVideo_numpy_list_pickle/02_label_training_Numpy_210512.npy', label_training_ar)"
   ]
  },
  {
   "cell_type": "code",
   "execution_count": 17,
   "metadata": {
    "execution": {
     "iopub.execute_input": "2021-05-12T02:50:21.912478Z",
     "iopub.status.busy": "2021-05-12T02:50:21.912478Z",
     "iopub.status.idle": "2021-05-12T02:50:22.028847Z",
     "shell.execute_reply": "2021-05-12T02:50:22.027848Z",
     "shell.execute_reply.started": "2021-05-12T02:50:21.912478Z"
    },
    "tags": []
   },
   "outputs": [
    {
     "data": {
      "text/plain": [
       "((2878, 30, 160, 160, 3), (2878, 2))"
      ]
     },
     "execution_count": 17,
     "metadata": {},
     "output_type": "execute_result"
    }
   ],
   "source": [
    "data_training_ar.shape, label_training_ar.shape"
   ]
  },
  {
   "cell_type": "markdown",
   "metadata": {},
   "source": [
    "### 2) Test set"
   ]
  },
  {
   "cell_type": "code",
   "execution_count": 4,
   "metadata": {
    "execution": {
     "iopub.execute_input": "2021-05-12T02:55:22.173140Z",
     "iopub.status.busy": "2021-05-12T02:55:22.165156Z",
     "iopub.status.idle": "2021-05-12T02:56:46.750762Z",
     "shell.execute_reply": "2021-05-12T02:56:46.735038Z",
     "shell.execute_reply.started": "2021-05-12T02:55:22.173140Z"
    },
    "tags": []
   },
   "outputs": [],
   "source": [
    "data_test_ar=np.array(data_test, dtype=np.float16) #> (720, 30, 160, 160, 3)"
   ]
  },
  {
   "cell_type": "code",
   "execution_count": 5,
   "metadata": {
    "execution": {
     "iopub.execute_input": "2021-05-12T02:56:46.750762Z",
     "iopub.status.busy": "2021-05-12T02:56:46.750762Z",
     "iopub.status.idle": "2021-05-12T02:57:09.502823Z",
     "shell.execute_reply": "2021-05-12T02:57:09.502823Z",
     "shell.execute_reply.started": "2021-05-12T02:56:46.750762Z"
    },
    "tags": []
   },
   "outputs": [],
   "source": [
    "np.save('D:/datasets/AllVideo_numpy_list_pickle/02_data_test_Numpy_210512.npy', data_test_ar)"
   ]
  },
  {
   "cell_type": "code",
   "execution_count": 6,
   "metadata": {
    "execution": {
     "iopub.execute_input": "2021-05-12T02:57:09.502823Z",
     "iopub.status.busy": "2021-05-12T02:57:09.502823Z",
     "iopub.status.idle": "2021-05-12T02:57:09.535582Z",
     "shell.execute_reply": "2021-05-12T02:57:09.534624Z",
     "shell.execute_reply.started": "2021-05-12T02:57:09.502823Z"
    },
    "tags": []
   },
   "outputs": [],
   "source": [
    "label_test_ar=np.array(label_test) #> (720, 2)"
   ]
  },
  {
   "cell_type": "code",
   "execution_count": 7,
   "metadata": {
    "execution": {
     "iopub.execute_input": "2021-05-12T02:57:09.537560Z",
     "iopub.status.busy": "2021-05-12T02:57:09.537560Z",
     "iopub.status.idle": "2021-05-12T02:57:09.585803Z",
     "shell.execute_reply": "2021-05-12T02:57:09.585803Z",
     "shell.execute_reply.started": "2021-05-12T02:57:09.537560Z"
    },
    "tags": []
   },
   "outputs": [],
   "source": [
    "np.save('D:/datasets/AllVideo_numpy_list_pickle/02_label_test_Numpy_210512.npy', label_test_ar)"
   ]
  },
  {
   "cell_type": "code",
   "execution_count": 8,
   "metadata": {
    "execution": {
     "iopub.execute_input": "2021-05-12T02:57:09.585803Z",
     "iopub.status.busy": "2021-05-12T02:57:09.585803Z",
     "iopub.status.idle": "2021-05-12T02:57:09.806466Z",
     "shell.execute_reply": "2021-05-12T02:57:09.806466Z",
     "shell.execute_reply.started": "2021-05-12T02:57:09.585803Z"
    },
    "tags": []
   },
   "outputs": [
    {
     "data": {
      "text/plain": [
       "((720, 30, 160, 160, 3), (720, 2))"
      ]
     },
     "execution_count": 8,
     "metadata": {},
     "output_type": "execute_result"
    }
   ],
   "source": [
    "data_test_ar.shape, label_test_ar.shape"
   ]
  }
 ],
 "metadata": {
  "kernelspec": {
   "display_name": "Python 3",
   "language": "python",
   "name": "python3"
  },
  "language_info": {
   "codemirror_mode": {
    "name": "ipython",
    "version": 3
   },
   "file_extension": ".py",
   "mimetype": "text/x-python",
   "name": "python",
   "nbconvert_exporter": "python",
   "pygments_lexer": "ipython3",
   "version": "3.8.5"
  }
 },
 "nbformat": 4,
 "nbformat_minor": 4
}
