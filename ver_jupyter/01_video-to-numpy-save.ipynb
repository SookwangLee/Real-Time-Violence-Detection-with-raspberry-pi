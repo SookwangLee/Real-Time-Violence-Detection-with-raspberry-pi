{
 "cells": [
  {
   "cell_type": "markdown",
   "metadata": {},
   "source": [
    "# 01. Transforming Video file(.avi) to 160*160 size, 30 frames Numpy array(.npy)\n",
    "* **Purpose of this Code** : Making train set & test set to train and evaluate Model\n",
    "* **`Please!`** **Before Run this code, You should separate your videos to Fight folder / NonFight Folder**\n",
    "* **`Output=.pickle`** : Very Large file.(Mabye about 30~50GB at each one?)\n",
    "    * Please check your drive capacity, before run this code!"
   ]
  },
  {
   "cell_type": "markdown",
   "metadata": {},
   "source": [
    "# Imports"
   ]
  },
  {
   "cell_type": "code",
   "execution_count": 1,
   "metadata": {
    "execution": {
     "iopub.execute_input": "2021-05-12T01:35:46.747215Z",
     "iopub.status.busy": "2021-05-12T01:35:46.747215Z",
     "iopub.status.idle": "2021-05-12T01:35:53.734738Z",
     "shell.execute_reply": "2021-05-12T01:35:53.734738Z",
     "shell.execute_reply.started": "2021-05-12T01:35:46.747215Z"
    },
    "id": "zo19mACbtiji",
    "tags": []
   },
   "outputs": [],
   "source": [
    "import os\n",
    "import pickle # save list as .pickle\n",
    "import numpy as np\n",
    "from tqdm import tqdm\n",
    "import cv2 # read video file\n",
    "from skimage.transform import resize # resizing images"
   ]
  },
  {
   "cell_type": "markdown",
   "metadata": {},
   "source": [
    "# 01-A. Transform video files to Numpy array"
   ]
  },
  {
   "cell_type": "code",
   "execution_count": 2,
   "metadata": {
    "execution": {
     "iopub.execute_input": "2021-05-12T01:35:55.841611Z",
     "iopub.status.busy": "2021-05-12T01:35:55.841611Z",
     "iopub.status.idle": "2021-05-12T01:35:55.861609Z",
     "shell.execute_reply": "2021-05-12T01:35:55.861609Z",
     "shell.execute_reply.started": "2021-05-12T01:35:55.841611Z"
    },
    "id": "badw1e8Cs3xa",
    "tags": []
   },
   "outputs": [],
   "source": [
    "def Save2Npy(file_dir, save_dir):\n",
    "    \"\"\"This function load videos, and transform each of them to Numpy array, and save them in selected folder.\n",
    "    :: file_dir :: This folder have original video files\n",
    "    :: save_dir :: You'll save transformed Numpy array in this folder.\n",
    "    \"\"\"\n",
    "    if not os.path.exists(save_dir): # If there is not save_dir folder, then create new folder at there.\n",
    "        os.makedirs(save_dir)\n",
    "    \n",
    "    file_list=os.listdir(file_dir) # Make list of video file(in file_dir folder)'s name.\n",
    "    \n",
    "    for file in tqdm(file_list):\n",
    "        frames=np.zeros((30, 160, 160, 3), dtype=np.float)\n",
    "        i=0\n",
    "        \n",
    "        vid=cv2.VideoCapture(os.path.join(file_dir, file)) # Create cv2.VideoCapture() Object of each video file.\n",
    "        \n",
    "        if vid.isOpened():\n",
    "            grabbed, frame=vid.read()\n",
    "        else:\n",
    "            grabbed=False\n",
    "            \n",
    "        frm=resize(frame, (160, 160, 3))\n",
    "        frm=np.expand_dims(frm, axis=0)\n",
    "        \n",
    "        if(np.max(frm)>1):\n",
    "            frm=frm/255.0\n",
    "        frames[i][:]=frm\n",
    "        i+=1\n",
    "      \n",
    "        while i<30:\n",
    "            grabbed, frame=vid.read()\n",
    "            frm=resize(frame, (160, 160, 3))\n",
    "            frm=np.expand_dims(frm, axis=0)\n",
    "            if(np.max(frm)>1):\n",
    "                frm=frm/255.0\n",
    "            frames[i][:] = frm\n",
    "            i+=1\n",
    "\n",
    "        video_name=file.split('.')[0]\n",
    "        video_path=os.path.join(file_dir, file)\n",
    "        save_path=os.path.join(save_dir, video_name+'.npy')\n",
    "\n",
    "        np.save(save_path, frames)"
   ]
  },
  {
   "cell_type": "code",
   "execution_count": 3,
   "metadata": {
    "execution": {
     "iopub.execute_input": "2021-05-12T01:36:00.098085Z",
     "iopub.status.busy": "2021-05-12T01:36:00.098085Z",
     "iopub.status.idle": "2021-05-12T01:36:00.103099Z",
     "shell.execute_reply": "2021-05-12T01:36:00.103099Z",
     "shell.execute_reply.started": "2021-05-12T01:36:00.098085Z"
    },
    "id": "QAQIBMa0twfe",
    "tags": []
   },
   "outputs": [],
   "source": [
    "file_dir='D:/datasets/itwill/Fight_210511' # Folder that have videos\n",
    "save_dir='D:/datasets/AllVideo_Fight_Numpy'"
   ]
  },
  {
   "cell_type": "code",
   "execution_count": 4,
   "metadata": {
    "colab": {
     "base_uri": "https://localhost:8080/"
    },
    "execution": {
     "iopub.execute_input": "2021-05-12T01:36:03.919857Z",
     "iopub.status.busy": "2021-05-12T01:36:03.919857Z",
     "iopub.status.idle": "2021-05-12T01:36:12.416115Z",
     "shell.execute_reply": "2021-05-12T01:36:12.416115Z",
     "shell.execute_reply.started": "2021-05-12T01:36:03.919857Z"
    },
    "executionInfo": {
     "elapsed": 43169,
     "status": "ok",
     "timestamp": 1619685813838,
     "user": {
      "displayName": "노혜원",
      "photoUrl": "",
      "userId": "17297828991528988184"
     },
     "user_tz": -540
    },
    "id": "ffcnzDeCyN3r",
    "outputId": "f39de57e-e854-46ce-936e-85579f2b4ef5",
    "tags": []
   },
   "outputs": [
    {
     "name": "stderr",
     "output_type": "stream",
     "text": [
      "100%|██████████████████████████████████████████████████████████████████████████████████| 16/16 [00:08<00:00,  1.89it/s]\n"
     ]
    }
   ],
   "source": [
    "Save2Npy(file_dir=file_dir, save_dir=save_dir)"
   ]
  },
  {
   "cell_type": "code",
   "execution_count": 5,
   "metadata": {
    "execution": {
     "iopub.execute_input": "2021-05-07T01:56:51.559948Z",
     "iopub.status.busy": "2021-05-07T01:56:51.559948Z",
     "iopub.status.idle": "2021-05-07T01:56:51.575818Z",
     "shell.execute_reply": "2021-05-07T01:56:51.575818Z",
     "shell.execute_reply.started": "2021-05-07T01:56:51.559948Z"
    },
    "tags": []
   },
   "outputs": [],
   "source": [
    "file_dir='D:/datasets/itwill/NonFight'\n",
    "save_dir='D:/datasets/AllVideo_NonFight_Numpy'"
   ]
  },
  {
   "cell_type": "code",
   "execution_count": 6,
   "metadata": {
    "execution": {
     "iopub.execute_input": "2021-05-07T01:56:51.576851Z",
     "iopub.status.busy": "2021-05-07T01:56:51.576851Z",
     "iopub.status.idle": "2021-05-07T01:59:48.116783Z",
     "shell.execute_reply": "2021-05-07T01:59:48.116783Z",
     "shell.execute_reply.started": "2021-05-07T01:56:51.576851Z"
    },
    "tags": []
   },
   "outputs": [
    {
     "name": "stderr",
     "output_type": "stream",
     "text": [
      "100%|██████████████████████████████████████████████████████████████████████████████████| 55/55 [02:56<00:00,  3.21s/it]\n"
     ]
    }
   ],
   "source": [
    "Save2Npy(file_dir=file_dir, save_dir=save_dir)"
   ]
  },
  {
   "cell_type": "markdown",
   "metadata": {
    "id": "DbDTCyEP1Sox"
   },
   "source": [
    "# 01-B. Make list of Numpy arrays"
   ]
  },
  {
   "cell_type": "markdown",
   "metadata": {},
   "source": [
    "## 1. Fight Videos"
   ]
  },
  {
   "cell_type": "code",
   "execution_count": 5,
   "metadata": {
    "colab": {
     "base_uri": "https://localhost:8080/"
    },
    "execution": {
     "iopub.execute_input": "2021-05-12T01:37:07.779720Z",
     "iopub.status.busy": "2021-05-12T01:37:07.778723Z",
     "iopub.status.idle": "2021-05-12T01:43:05.549673Z",
     "shell.execute_reply": "2021-05-12T01:43:05.548333Z",
     "shell.execute_reply.started": "2021-05-12T01:37:07.779720Z"
    },
    "executionInfo": {
     "elapsed": 2548,
     "status": "ok",
     "timestamp": 1619686496769,
     "user": {
      "displayName": "노혜원",
      "photoUrl": "",
      "userId": "17297828991528988184"
     },
     "user_tz": -540
    },
    "id": "2NpyhDVO0raO",
    "outputId": "38d35dc1-6af4-4c71-baa4-65a99f10f85d",
    "tags": []
   },
   "outputs": [
    {
     "name": "stdout",
     "output_type": "stream",
     "text": [
      "1857\n"
     ]
    }
   ],
   "source": [
    "Fight_dir='D:/datasets/AllVideo_Fight_Numpy' # 영상 넘파이 배열들이 있는 폴더\n",
    "file_list_npy = os.listdir(Fight_dir) # 넘파이 배열들이 저장된 폴더(save_dir) 내의 파일이름들\n",
    "\n",
    "data_Fight=[]\n",
    "for file in file_list_npy: # 해당 폴더 내의 전체 넘파이들에 대해서\n",
    "    file_path=os.path.join(Fight_dir, file)\n",
    "    x=np.load(file_path)\n",
    "    data_Fight.append(x)\n",
    "\n",
    "print(len(data_Fight))"
   ]
  },
  {
   "cell_type": "markdown",
   "metadata": {},
   "source": [
    "## 2. NonFight Videos"
   ]
  },
  {
   "cell_type": "code",
   "execution_count": 8,
   "metadata": {
    "execution": {
     "iopub.execute_input": "2021-05-07T02:05:35.848276Z",
     "iopub.status.busy": "2021-05-07T02:05:35.847278Z",
     "iopub.status.idle": "2021-05-07T02:11:00.733880Z",
     "shell.execute_reply": "2021-05-07T02:11:00.729890Z",
     "shell.execute_reply.started": "2021-05-07T02:05:35.847278Z"
    },
    "tags": []
   },
   "outputs": [
    {
     "name": "stdout",
     "output_type": "stream",
     "text": [
      "1741\n"
     ]
    }
   ],
   "source": [
    "NonFight_dir='D:/datasets/AllVideo_NonFight_Numpy'\n",
    "file_list_npy=os.listdir(NonFight_dir)\n",
    "\n",
    "data_NonFight=[]\n",
    "for file in file_list_npy:\n",
    "    file_path=os.path.join(NonFight_dir, file)\n",
    "    x=np.load(file_path)\n",
    "    data_NonFight.append(x)\n",
    "\n",
    "print(len(data_NonFight))"
   ]
  },
  {
   "cell_type": "markdown",
   "metadata": {},
   "source": [
    "# 01-C. Save list as .pickle"
   ]
  },
  {
   "cell_type": "code",
   "execution_count": 6,
   "metadata": {
    "execution": {
     "iopub.execute_input": "2021-05-12T01:43:05.565294Z",
     "iopub.status.busy": "2021-05-12T01:43:05.565294Z",
     "iopub.status.idle": "2021-05-12T01:48:43.113500Z",
     "shell.execute_reply": "2021-05-12T01:48:43.099352Z",
     "shell.execute_reply.started": "2021-05-12T01:43:05.565294Z"
    },
    "tags": []
   },
   "outputs": [],
   "source": [
    "with open(\"D:/datasets/AllVideo_numpy_list_pickle/01_data_Fight_210512.pickle\",\"wb\") as fw:\n",
    "    pickle.dump(data_Fight, fw, protocol=pickle.HIGHEST_PROTOCOL)"
   ]
  },
  {
   "cell_type": "code",
   "execution_count": 10,
   "metadata": {
    "execution": {
     "iopub.execute_input": "2021-05-07T02:17:01.175596Z",
     "iopub.status.busy": "2021-05-07T02:17:01.175596Z",
     "iopub.status.idle": "2021-05-07T02:21:59.396154Z",
     "shell.execute_reply": "2021-05-07T02:21:59.385184Z",
     "shell.execute_reply.started": "2021-05-07T02:17:01.175596Z"
    },
    "tags": []
   },
   "outputs": [],
   "source": [
    "with open(\"D:/datasets/AllVideo_numpy_list_pickle/01_data_NonFight_210507.pickle\",\"wb\") as fw:\n",
    "    pickle.dump(data_NonFight, fw, protocol=pickle.HIGHEST_PROTOCOL)"
   ]
  },
  {
   "cell_type": "markdown",
   "metadata": {},
   "source": [
    "# 01-D. Make & Save Label(Real Values) as .pickle\n",
    "> Memo\n",
    "```\n",
    "prediction=preds.argmax(axis=0):[0 0]\n",
    "Results =  [[0.09166703 0.9092251 ]]\n",
    "Maximun Probability =  0.9092251\n",
    "Difference of prob  0.8184502124786377\n",
    "Alert : violence - 90.92%\n",
    "```\n",
    "> labels1=[] : list of each video file's lavel(Fight/NonFight). \n",
    "> * Violence(Fight) : [0,1]\n",
    "> * Non-Violence(NonFight) : [1,0]"
   ]
  },
  {
   "cell_type": "markdown",
   "metadata": {},
   "source": [
    "## 1. Make Label list"
   ]
  },
  {
   "cell_type": "code",
   "execution_count": 7,
   "metadata": {
    "execution": {
     "iopub.execute_input": "2021-05-12T01:48:43.131808Z",
     "iopub.status.busy": "2021-05-12T01:48:43.131070Z",
     "iopub.status.idle": "2021-05-12T01:48:43.173974Z",
     "shell.execute_reply": "2021-05-12T01:48:43.172976Z",
     "shell.execute_reply.started": "2021-05-12T01:48:43.131808Z"
    },
    "tags": []
   },
   "outputs": [],
   "source": [
    "label_Fight_per_video=np.array([0,1])\n",
    "label_Fight=[label_Fight_per_video]*len(data_Fight) # As amount as count of Violence(Fight) Video"
   ]
  },
  {
   "cell_type": "code",
   "execution_count": 12,
   "metadata": {
    "execution": {
     "iopub.execute_input": "2021-05-07T02:21:59.445413Z",
     "iopub.status.busy": "2021-05-07T02:21:59.445413Z",
     "iopub.status.idle": "2021-05-07T02:21:59.463108Z",
     "shell.execute_reply": "2021-05-07T02:21:59.463108Z",
     "shell.execute_reply.started": "2021-05-07T02:21:59.445413Z"
    },
    "tags": []
   },
   "outputs": [],
   "source": [
    "label_NonFight_per_video=np.array([1,0])\n",
    "label_NonFight=[label_NonFight_per_video]*len(data_NonFight) # As amount as count of Non-Violence(NonFight) Video"
   ]
  },
  {
   "cell_type": "code",
   "execution_count": 13,
   "metadata": {
    "execution": {
     "iopub.execute_input": "2021-05-07T02:21:59.464122Z",
     "iopub.status.busy": "2021-05-07T02:21:59.464122Z",
     "iopub.status.idle": "2021-05-07T02:21:59.584647Z",
     "shell.execute_reply": "2021-05-07T02:21:59.583490Z",
     "shell.execute_reply.started": "2021-05-07T02:21:59.464122Z"
    },
    "tags": []
   },
   "outputs": [
    {
     "data": {
      "text/plain": [
       "(1841, 1741)"
      ]
     },
     "execution_count": 13,
     "metadata": {},
     "output_type": "execute_result"
    }
   ],
   "source": [
    "len(label_Fight), len(label_NonFight)"
   ]
  },
  {
   "cell_type": "code",
   "execution_count": 14,
   "metadata": {
    "execution": {
     "iopub.execute_input": "2021-05-07T02:21:59.586606Z",
     "iopub.status.busy": "2021-05-07T02:21:59.586606Z",
     "iopub.status.idle": "2021-05-07T02:21:59.614788Z",
     "shell.execute_reply": "2021-05-07T02:21:59.614788Z",
     "shell.execute_reply.started": "2021-05-07T02:21:59.586606Z"
    },
    "tags": []
   },
   "outputs": [
    {
     "data": {
      "text/plain": [
       "(array([0, 1]), array([1, 0]))"
      ]
     },
     "execution_count": 14,
     "metadata": {},
     "output_type": "execute_result"
    }
   ],
   "source": [
    "label_Fight[0], label_NonFight[0]"
   ]
  },
  {
   "cell_type": "markdown",
   "metadata": {},
   "source": [
    "## 2. Save Label list as .pickle"
   ]
  },
  {
   "cell_type": "code",
   "execution_count": 8,
   "metadata": {
    "execution": {
     "iopub.execute_input": "2021-05-12T01:48:43.179021Z",
     "iopub.status.busy": "2021-05-12T01:48:43.179021Z",
     "iopub.status.idle": "2021-05-12T01:48:43.205109Z",
     "shell.execute_reply": "2021-05-12T01:48:43.205109Z",
     "shell.execute_reply.started": "2021-05-12T01:48:43.179021Z"
    },
    "tags": []
   },
   "outputs": [],
   "source": [
    "with open(\"D:/datasets/AllVideo_numpy_list_pickle/01_label_Fight_210512.pickle\",\"wb\") as fw:\n",
    "    pickle.dump(label_Fight, fw)"
   ]
  },
  {
   "cell_type": "code",
   "execution_count": 16,
   "metadata": {
    "execution": {
     "iopub.execute_input": "2021-05-07T02:21:59.631745Z",
     "iopub.status.busy": "2021-05-07T02:21:59.631745Z",
     "iopub.status.idle": "2021-05-07T02:21:59.661692Z",
     "shell.execute_reply": "2021-05-07T02:21:59.661692Z",
     "shell.execute_reply.started": "2021-05-07T02:21:59.631745Z"
    },
    "tags": []
   },
   "outputs": [],
   "source": [
    "with open(\"D:/datasets/AllVideo_numpy_list_pickle/01_label_NonFight_210507.pickle\",\"wb\") as fw:\n",
    "    pickle.dump(label_NonFight, fw)"
   ]
  }
 ],
 "metadata": {
  "colab": {
   "collapsed_sections": [],
   "name": "Save2Npy.ipynb의 사본",
   "provenance": [
    {
     "file_id": "1QzVuS31z0_YnwKgemxRNuTYqpiZXI6X5",
     "timestamp": 1619686640536
    }
   ]
  },
  "kernelspec": {
   "display_name": "Python 3",
   "language": "python",
   "name": "python3"
  },
  "language_info": {
   "codemirror_mode": {
    "name": "ipython",
    "version": 3
   },
   "file_extension": ".py",
   "mimetype": "text/x-python",
   "name": "python",
   "nbconvert_exporter": "python",
   "pygments_lexer": "ipython3",
   "version": "3.8.5"
  }
 },
 "nbformat": 4,
 "nbformat_minor": 4
}
