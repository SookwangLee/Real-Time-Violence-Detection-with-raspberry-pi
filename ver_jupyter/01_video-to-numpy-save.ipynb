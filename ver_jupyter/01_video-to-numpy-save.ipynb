{
 "cells": [
  {
   "cell_type": "markdown",
   "metadata": {},
   "source": [
    "# 각각의 영상들을 30프레임의 160*160사이즈 넘파이 배열(.npy)로 저장하기\n",
    "* 모델 훈련을 위한 트레인/테스트 셋을 만들 목적\n",
    "* **`주의!`** **폭력 셋과 비폭력 셋을 따로 만드는 것이 좋습니다. 그래야 레이블 달기가 편합니다**\n",
    "* **`결과물(피클) : 대용량 리스트 파일`** 입니다.\n",
    "    * 개당 30GB 정도의 크기\n",
    "    * D드라이브 등 피클 파일을 저장할 디스크의 용량이 확보되었는지 실행 전 확인해 주세요\n",
    "\n",
    "* **`폭력 영상`** : 1814+5+22=1841개 / **`비폭력 영상`** : 1686+10+55=1741개\n",
    "* **21.05.04. : ITWILL 촬영 영상 15개가 데이터셋에 새로 포함되었습니다.**\n",
    "* **21.05.07. : ITWILL 쵤영 영상 77개가 데이터셋에 새로 포함되었습니다.**\n",
    "\n",
    "* **`데이터셋 소스`** : \n",
    "    * RWF2000 : https://github.com/pedrofrodenas/Violence-Detection-CNN-LSTM/blob/master/violence_detection.ipynb\n",
    "    * Hocky : http://visilab.etsii.uclm.es/personas/oscar/FightDetection/index.html\n",
    "    * raw.zip : https://github.com/niyazed/violence-video-classification\n",
    "    * cam1, cam2 : https://github.com/airtlab/A-Dataset-for-Automatic-Violence-Detection-in-Videos/tree/master/violence-detection-dataset/non-violent/cam1\n",
    "    * 21.04.22., 21.05.04., 21.05.06. 학원에서 촬영한 동영상들 : "
   ]
  },
  {
   "cell_type": "markdown",
   "metadata": {},
   "source": [
    "# Imports"
   ]
  },
  {
   "cell_type": "code",
   "execution_count": 1,
   "metadata": {
    "execution": {
     "iopub.execute_input": "2021-05-07T01:55:32.701887Z",
     "iopub.status.busy": "2021-05-07T01:55:32.700889Z",
     "iopub.status.idle": "2021-05-07T01:55:35.329100Z",
     "shell.execute_reply": "2021-05-07T01:55:35.329100Z",
     "shell.execute_reply.started": "2021-05-07T01:55:32.701887Z"
    },
    "id": "zo19mACbtiji",
    "tags": []
   },
   "outputs": [],
   "source": [
    "import os\n",
    "import pickle\n",
    "import numpy as np\n",
    "from tqdm import tqdm\n",
    "import cv2 #동영상을 불러오는 목적\n",
    "from skimage.transform import resize # 이미지 리사이즈"
   ]
  },
  {
   "cell_type": "markdown",
   "metadata": {},
   "source": [
    "# 영상을 30프레임의 160x160 넘파이 배열로 저장"
   ]
  },
  {
   "cell_type": "code",
   "execution_count": 2,
   "metadata": {
    "execution": {
     "iopub.execute_input": "2021-05-07T01:55:35.330097Z",
     "iopub.status.busy": "2021-05-07T01:55:35.330097Z",
     "iopub.status.idle": "2021-05-07T01:55:35.345058Z",
     "shell.execute_reply": "2021-05-07T01:55:35.345058Z",
     "shell.execute_reply.started": "2021-05-07T01:55:35.330097Z"
    },
    "id": "badw1e8Cs3xa",
    "tags": []
   },
   "outputs": [],
   "source": [
    "def Save2Npy(file_dir, save_dir):\n",
    "    \"\"\"file_dir 폴더에 있는 비디오 영상을 불러와, Numpy 배열로 변환하여 save_dir 폴더에 저장합니다.\n",
    "    ::Args::\n",
    "    file_dir: 원본 비디오들이 있는 폴더\n",
    "    save_dir: 넘파이 배열로 변환한 결과인 .npy 파일들을 저장할 폴더\n",
    "    \"\"\"\n",
    "    if not os.path.exists(save_dir): # save_dir 폴더가 없으면, 그 위치에 새 폴더를 만들어 줍니다.\n",
    "        os.makedirs(save_dir)\n",
    "    \n",
    "    file_list=os.listdir(file_dir) # file_dir 폴더 내에 존재하는 파일들(동영상 이름들) 리스트화\n",
    "    \n",
    "    for file in tqdm(file_list):\n",
    "        frames=np.zeros((30, 160, 160, 3), dtype=np.float)\n",
    "        i=0\n",
    "        \n",
    "        vc=cv2.VideoCapture(os.path.join(file_dir, file)) # file_dir 내의 동영상(file)들에 대해 비디오 객체 생성\n",
    "        \n",
    "        if vc.isOpened():\n",
    "            rval, frame=vc.read()\n",
    "        else:\n",
    "            rval=False\n",
    "            \n",
    "        frm=resize(frame, (160, 160, 3))\n",
    "        frm=np.expand_dims(frm, axis=0)\n",
    "        \n",
    "        if(np.max(frm)>1):\n",
    "            frm=frm/255.0\n",
    "        frames[i][:]=frm\n",
    "        i+=1\n",
    "      \n",
    "        while i<30:\n",
    "            rval, frame=vc.read()\n",
    "            frm=resize(frame,(160,160,3))\n",
    "            frm=np.expand_dims(frm,axis=0)\n",
    "            if(np.max(frm)>1):\n",
    "                frm=frm/255.0\n",
    "            frames[i][:] = frm\n",
    "            i+=1\n",
    "\n",
    "        video_name=file.split('.')[0]\n",
    "        video_path=os.path.join(file_dir, file)\n",
    "        save_path=os.path.join(save_dir, video_name+'.npy')\n",
    "\n",
    "        np.save(save_path, frames)"
   ]
  },
  {
   "cell_type": "code",
   "execution_count": 3,
   "metadata": {
    "execution": {
     "iopub.execute_input": "2021-05-07T01:55:35.347052Z",
     "iopub.status.busy": "2021-05-07T01:55:35.346055Z",
     "iopub.status.idle": "2021-05-07T01:55:35.360017Z",
     "shell.execute_reply": "2021-05-07T01:55:35.360017Z",
     "shell.execute_reply.started": "2021-05-07T01:55:35.347052Z"
    },
    "id": "QAQIBMa0twfe",
    "tags": []
   },
   "outputs": [],
   "source": [
    "file_dir='D:/datasets/itwill/Fight' # 영상이 있는 폴더\n",
    "save_dir='D:/datasets/AllVideo_Fight_Numpy' # 각 영상별 30프레임의 넘파이를 저장할 폴더"
   ]
  },
  {
   "cell_type": "code",
   "execution_count": 4,
   "metadata": {
    "colab": {
     "base_uri": "https://localhost:8080/"
    },
    "execution": {
     "iopub.execute_input": "2021-05-07T01:55:35.362014Z",
     "iopub.status.busy": "2021-05-07T01:55:35.361015Z",
     "iopub.status.idle": "2021-05-07T01:56:51.559948Z",
     "shell.execute_reply": "2021-05-07T01:56:51.559948Z",
     "shell.execute_reply.started": "2021-05-07T01:55:35.362014Z"
    },
    "executionInfo": {
     "elapsed": 43169,
     "status": "ok",
     "timestamp": 1619685813838,
     "user": {
      "displayName": "노혜원",
      "photoUrl": "",
      "userId": "17297828991528988184"
     },
     "user_tz": -540
    },
    "id": "ffcnzDeCyN3r",
    "outputId": "f39de57e-e854-46ce-936e-85579f2b4ef5",
    "tags": []
   },
   "outputs": [
    {
     "name": "stderr",
     "output_type": "stream",
     "text": [
      "100%|██████████████████████████████████████████████████████████████████████████████████| 27/27 [01:16<00:00,  2.82s/it]\n"
     ]
    }
   ],
   "source": [
    "Save2Npy(file_dir=file_dir, save_dir=save_dir)"
   ]
  },
  {
   "cell_type": "code",
   "execution_count": 5,
   "metadata": {
    "execution": {
     "iopub.execute_input": "2021-05-07T01:56:51.559948Z",
     "iopub.status.busy": "2021-05-07T01:56:51.559948Z",
     "iopub.status.idle": "2021-05-07T01:56:51.575818Z",
     "shell.execute_reply": "2021-05-07T01:56:51.575818Z",
     "shell.execute_reply.started": "2021-05-07T01:56:51.559948Z"
    },
    "tags": []
   },
   "outputs": [],
   "source": [
    "file_dir='D:/datasets/itwill/NonFight' # 영상이 있는 폴더\n",
    "save_dir='D:/datasets/AllVideo_NonFight_Numpy' # 각 영상별 30프레임의 넘파이를 저장할 폴더"
   ]
  },
  {
   "cell_type": "code",
   "execution_count": 6,
   "metadata": {
    "execution": {
     "iopub.execute_input": "2021-05-07T01:56:51.576851Z",
     "iopub.status.busy": "2021-05-07T01:56:51.576851Z",
     "iopub.status.idle": "2021-05-07T01:59:48.116783Z",
     "shell.execute_reply": "2021-05-07T01:59:48.116783Z",
     "shell.execute_reply.started": "2021-05-07T01:56:51.576851Z"
    },
    "tags": []
   },
   "outputs": [
    {
     "name": "stderr",
     "output_type": "stream",
     "text": [
      "100%|██████████████████████████████████████████████████████████████████████████████████| 55/55 [02:56<00:00,  3.21s/it]\n"
     ]
    }
   ],
   "source": [
    "Save2Npy(file_dir=file_dir, save_dir=save_dir)"
   ]
  },
  {
   "cell_type": "markdown",
   "metadata": {
    "id": "DbDTCyEP1Sox"
   },
   "source": [
    "# 저장된 넘파이 배열들을 리스트에 추가하여 데이터 셋(리스트) 만들기"
   ]
  },
  {
   "cell_type": "markdown",
   "metadata": {},
   "source": [
    "## 폭력 영상 : Fight "
   ]
  },
  {
   "cell_type": "code",
   "execution_count": 7,
   "metadata": {
    "colab": {
     "base_uri": "https://localhost:8080/"
    },
    "execution": {
     "iopub.execute_input": "2021-05-07T01:59:48.117781Z",
     "iopub.status.busy": "2021-05-07T01:59:48.117781Z",
     "iopub.status.idle": "2021-05-07T02:05:35.828328Z",
     "shell.execute_reply": "2021-05-07T02:05:35.822345Z",
     "shell.execute_reply.started": "2021-05-07T01:59:48.117781Z"
    },
    "executionInfo": {
     "elapsed": 2548,
     "status": "ok",
     "timestamp": 1619686496769,
     "user": {
      "displayName": "노혜원",
      "photoUrl": "",
      "userId": "17297828991528988184"
     },
     "user_tz": -540
    },
    "id": "2NpyhDVO0raO",
    "outputId": "38d35dc1-6af4-4c71-baa4-65a99f10f85d",
    "tags": []
   },
   "outputs": [
    {
     "name": "stdout",
     "output_type": "stream",
     "text": [
      "1841\n"
     ]
    }
   ],
   "source": [
    "Fight_dir='D:/datasets/AllVideo_Fight_Numpy' # 영상 넘파이 배열들이 있는 폴더\n",
    "file_list_npy = os.listdir(Fight_dir) # 넘파이 배열들이 저장된 폴더(save_dir) 내의 파일이름들\n",
    "\n",
    "data_Fight=[]\n",
    "for file in file_list_npy: # 해당 폴더 내의 전체 넘파이들에 대해서\n",
    "    file_path=os.path.join(Fight_dir, file)\n",
    "    x=np.load(file_path)\n",
    "    data_Fight.append(x)\n",
    "\n",
    "print(len(data_Fight))"
   ]
  },
  {
   "cell_type": "markdown",
   "metadata": {},
   "source": [
    "## 비폭력 영상 : NonFight"
   ]
  },
  {
   "cell_type": "code",
   "execution_count": 8,
   "metadata": {
    "execution": {
     "iopub.execute_input": "2021-05-07T02:05:35.848276Z",
     "iopub.status.busy": "2021-05-07T02:05:35.847278Z",
     "iopub.status.idle": "2021-05-07T02:11:00.733880Z",
     "shell.execute_reply": "2021-05-07T02:11:00.729890Z",
     "shell.execute_reply.started": "2021-05-07T02:05:35.847278Z"
    },
    "tags": []
   },
   "outputs": [
    {
     "name": "stdout",
     "output_type": "stream",
     "text": [
      "1741\n"
     ]
    }
   ],
   "source": [
    "NonFight_dir='D:/datasets/AllVideo_NonFight_Numpy' # 영상 넘파이 배열들이 있는 폴더\n",
    "file_list_npy = os.listdir(NonFight_dir) # 넘파이 배열들이 저장된 폴더(save_dir) 내의 파일이름들\n",
    "\n",
    "data_NonFight=[]\n",
    "for file in file_list_npy: # 해당 폴더 내의 전체 넘파이들에 대해서\n",
    "    file_path=os.path.join(NonFight_dir, file)\n",
    "    x=np.load(file_path)\n",
    "    data_NonFight.append(x)\n",
    "\n",
    "print(len(data_NonFight))"
   ]
  },
  {
   "cell_type": "markdown",
   "metadata": {},
   "source": [
    "# 만들어진 데이터셋(리스트)을 피클로 저장"
   ]
  },
  {
   "cell_type": "code",
   "execution_count": 9,
   "metadata": {
    "execution": {
     "iopub.execute_input": "2021-05-07T02:11:00.758872Z",
     "iopub.status.busy": "2021-05-07T02:11:00.757871Z",
     "iopub.status.idle": "2021-05-07T02:17:01.167422Z",
     "shell.execute_reply": "2021-05-07T02:17:01.160602Z",
     "shell.execute_reply.started": "2021-05-07T02:11:00.758872Z"
    },
    "tags": []
   },
   "outputs": [],
   "source": [
    "with open(\"D:/datasets/AllVideo_numpy_list_pickle/01_data_Fight_210507.pickle\",\"wb\") as fw:\n",
    "    pickle.dump(data_Fight, fw, protocol=pickle.HIGHEST_PROTOCOL)"
   ]
  },
  {
   "cell_type": "code",
   "execution_count": 10,
   "metadata": {
    "execution": {
     "iopub.execute_input": "2021-05-07T02:17:01.175596Z",
     "iopub.status.busy": "2021-05-07T02:17:01.175596Z",
     "iopub.status.idle": "2021-05-07T02:21:59.396154Z",
     "shell.execute_reply": "2021-05-07T02:21:59.385184Z",
     "shell.execute_reply.started": "2021-05-07T02:17:01.175596Z"
    },
    "tags": []
   },
   "outputs": [],
   "source": [
    "with open(\"D:/datasets/AllVideo_numpy_list_pickle/01_data_NonFight_210507.pickle\",\"wb\") as fw:\n",
    "    pickle.dump(data_NonFight, fw, protocol=pickle.HIGHEST_PROTOCOL)"
   ]
  },
  {
   "cell_type": "markdown",
   "metadata": {},
   "source": [
    "# 레이블(실제값) 저장\n",
    "\n",
    "> 다음에 유의\n",
    "```\n",
    "prediction=preds.argmax(axis=0):[0 0]\n",
    "Results =  [[0.09166703 0.9092251 ]]\n",
    "Maximun Probability =  0.9092251\n",
    "Difference of prob  0.8184502124786377\n",
    "Alert : violence - 90.92%\n",
    "```\n",
    "> labels1=[] 각 비디오의 레이블(폭력 / 비폭력). \n",
    "> * 폭력 : [0,1]\n",
    "> * 비폭력 : [1,0]"
   ]
  },
  {
   "cell_type": "code",
   "execution_count": 11,
   "metadata": {
    "execution": {
     "iopub.execute_input": "2021-05-07T02:21:59.414153Z",
     "iopub.status.busy": "2021-05-07T02:21:59.414153Z",
     "iopub.status.idle": "2021-05-07T02:21:59.445413Z",
     "shell.execute_reply": "2021-05-07T02:21:59.445413Z",
     "shell.execute_reply.started": "2021-05-07T02:21:59.414153Z"
    },
    "tags": []
   },
   "outputs": [],
   "source": [
    "label_Fight_per_video=np.array([0,1])\n",
    "label_Fight=[label_Fight_per_video]*len(data_Fight) #폭력 영상 개수만큼"
   ]
  },
  {
   "cell_type": "code",
   "execution_count": 12,
   "metadata": {
    "execution": {
     "iopub.execute_input": "2021-05-07T02:21:59.445413Z",
     "iopub.status.busy": "2021-05-07T02:21:59.445413Z",
     "iopub.status.idle": "2021-05-07T02:21:59.463108Z",
     "shell.execute_reply": "2021-05-07T02:21:59.463108Z",
     "shell.execute_reply.started": "2021-05-07T02:21:59.445413Z"
    },
    "tags": []
   },
   "outputs": [],
   "source": [
    "label_NonFight_per_video=np.array([1,0])\n",
    "label_NonFight=[label_NonFight_per_video]*len(data_NonFight) #비폭력 영상 개수만큼"
   ]
  },
  {
   "cell_type": "code",
   "execution_count": 13,
   "metadata": {
    "execution": {
     "iopub.execute_input": "2021-05-07T02:21:59.464122Z",
     "iopub.status.busy": "2021-05-07T02:21:59.464122Z",
     "iopub.status.idle": "2021-05-07T02:21:59.584647Z",
     "shell.execute_reply": "2021-05-07T02:21:59.583490Z",
     "shell.execute_reply.started": "2021-05-07T02:21:59.464122Z"
    },
    "tags": []
   },
   "outputs": [
    {
     "data": {
      "text/plain": [
       "(1841, 1741)"
      ]
     },
     "execution_count": 13,
     "metadata": {},
     "output_type": "execute_result"
    }
   ],
   "source": [
    "len(label_Fight), len(label_NonFight)"
   ]
  },
  {
   "cell_type": "code",
   "execution_count": 14,
   "metadata": {
    "execution": {
     "iopub.execute_input": "2021-05-07T02:21:59.586606Z",
     "iopub.status.busy": "2021-05-07T02:21:59.586606Z",
     "iopub.status.idle": "2021-05-07T02:21:59.614788Z",
     "shell.execute_reply": "2021-05-07T02:21:59.614788Z",
     "shell.execute_reply.started": "2021-05-07T02:21:59.586606Z"
    },
    "tags": []
   },
   "outputs": [
    {
     "data": {
      "text/plain": [
       "(array([0, 1]), array([1, 0]))"
      ]
     },
     "execution_count": 14,
     "metadata": {},
     "output_type": "execute_result"
    }
   ],
   "source": [
    "label_Fight[0], label_NonFight[0]"
   ]
  },
  {
   "cell_type": "code",
   "execution_count": 15,
   "metadata": {
    "execution": {
     "iopub.execute_input": "2021-05-07T02:21:59.620806Z",
     "iopub.status.busy": "2021-05-07T02:21:59.620806Z",
     "iopub.status.idle": "2021-05-07T02:21:59.630771Z",
     "shell.execute_reply": "2021-05-07T02:21:59.630771Z",
     "shell.execute_reply.started": "2021-05-07T02:21:59.620806Z"
    },
    "tags": []
   },
   "outputs": [],
   "source": [
    "with open(\"D:/datasets/AllVideo_numpy_list_pickle/01_label_Fight_210507.pickle\",\"wb\") as fw:\n",
    "    pickle.dump(label_Fight, fw)"
   ]
  },
  {
   "cell_type": "code",
   "execution_count": 16,
   "metadata": {
    "execution": {
     "iopub.execute_input": "2021-05-07T02:21:59.631745Z",
     "iopub.status.busy": "2021-05-07T02:21:59.631745Z",
     "iopub.status.idle": "2021-05-07T02:21:59.661692Z",
     "shell.execute_reply": "2021-05-07T02:21:59.661692Z",
     "shell.execute_reply.started": "2021-05-07T02:21:59.631745Z"
    },
    "tags": []
   },
   "outputs": [],
   "source": [
    "with open(\"D:/datasets/AllVideo_numpy_list_pickle/01_label_NonFight_210507.pickle\",\"wb\") as fw:\n",
    "    pickle.dump(label_NonFight, fw)"
   ]
  }
 ],
 "metadata": {
  "colab": {
   "collapsed_sections": [],
   "name": "Save2Npy.ipynb의 사본",
   "provenance": [
    {
     "file_id": "1QzVuS31z0_YnwKgemxRNuTYqpiZXI6X5",
     "timestamp": 1619686640536
    }
   ]
  },
  "kernelspec": {
   "display_name": "Python 3",
   "language": "python",
   "name": "python3"
  },
  "language_info": {
   "codemirror_mode": {
    "name": "ipython",
    "version": 3
   },
   "file_extension": ".py",
   "mimetype": "text/x-python",
   "name": "python",
   "nbconvert_exporter": "python",
   "pygments_lexer": "ipython3",
   "version": "3.8.5"
  }
 },
 "nbformat": 4,
 "nbformat_minor": 4
}
