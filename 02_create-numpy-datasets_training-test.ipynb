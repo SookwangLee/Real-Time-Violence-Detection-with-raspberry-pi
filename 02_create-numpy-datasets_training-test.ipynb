{
 "cells": [
  {
   "cell_type": "markdown",
   "metadata": {},
   "source": [
    "# 비디오/라벨 데이터 불러와 훈련/테스트 셋 만들기\n",
    "* 21XXXX_01_video-to-numpy-save.ipynb 에서 이어집니다."
   ]
  },
  {
   "cell_type": "markdown",
   "metadata": {},
   "source": [
    "# imports"
   ]
  },
  {
   "cell_type": "code",
   "execution_count": 1,
   "metadata": {
    "execution": {
     "iopub.execute_input": "2021-05-07T04:25:46.814797Z",
     "iopub.status.busy": "2021-05-07T04:25:46.814797Z",
     "iopub.status.idle": "2021-05-07T04:25:47.737067Z",
     "shell.execute_reply": "2021-05-07T04:25:47.737067Z",
     "shell.execute_reply.started": "2021-05-07T04:25:46.814797Z"
    },
    "tags": []
   },
   "outputs": [],
   "source": [
    "import numpy as np\n",
    "import pickle\n",
    "from random import shuffle"
   ]
  },
  {
   "cell_type": "markdown",
   "metadata": {},
   "source": [
    "# 폭력/비폭력 비디오 데이터, 라벨 피클 불러오기\n",
    "* 21XXXX_01_video-to-numpy-save.ipynb 에서 저장한 피클 파일을 불러옵니다.\n",
    "    * **data_Fight.pickle** : 폭력 영상 프레임별 넘파이 배열 리스트\n",
    "    * **data_NonFight.pickle** : 비폭력 영상 프레임별 넘파이 배열 리스트\n",
    "    * **label_Fight.pickle** : 폭력 영상 레이블(타겟) 넘파이 배열 리스트\n",
    "    * **label_NonFight.pickle** : 폭력 영상 레이블(타겟) 넘파이 배열 리스트"
   ]
  },
  {
   "cell_type": "code",
   "execution_count": 2,
   "metadata": {
    "execution": {
     "iopub.execute_input": "2021-05-07T02:27:54.916638Z",
     "iopub.status.busy": "2021-05-07T02:27:54.916638Z",
     "iopub.status.idle": "2021-05-07T02:32:44.999580Z",
     "shell.execute_reply": "2021-05-07T02:32:44.999580Z",
     "shell.execute_reply.started": "2021-05-07T02:27:54.916638Z"
    },
    "tags": []
   },
   "outputs": [
    {
     "name": "stdout",
     "output_type": "stream",
     "text": [
      "1841\n"
     ]
    }
   ],
   "source": [
    "with open(\"D:/datasets/AllVideo_numpy_list_pickle/01_data_Fight_210507.pickle\",\"rb\") as fr:\n",
    "    data_Fight=pickle.load(fr)\n",
    "print(len(data_Fight))"
   ]
  },
  {
   "cell_type": "code",
   "execution_count": 3,
   "metadata": {
    "execution": {
     "iopub.execute_input": "2021-05-07T02:32:45.015202Z",
     "iopub.status.busy": "2021-05-07T02:32:45.015202Z",
     "iopub.status.idle": "2021-05-07T02:32:45.078072Z",
     "shell.execute_reply": "2021-05-07T02:32:45.078072Z",
     "shell.execute_reply.started": "2021-05-07T02:32:45.015202Z"
    },
    "tags": []
   },
   "outputs": [
    {
     "name": "stdout",
     "output_type": "stream",
     "text": [
      "1841\n"
     ]
    }
   ],
   "source": [
    "with open(\"D:/datasets/AllVideo_numpy_list_pickle/01_label_Fight_210507.pickle\",\"rb\") as fr:\n",
    "    label_Fight=pickle.load(fr)\n",
    "print(len(label_Fight))"
   ]
  },
  {
   "cell_type": "code",
   "execution_count": 4,
   "metadata": {
    "execution": {
     "iopub.execute_input": "2021-05-07T02:32:45.081103Z",
     "iopub.status.busy": "2021-05-07T02:32:45.081103Z",
     "iopub.status.idle": "2021-05-07T02:37:25.094736Z",
     "shell.execute_reply": "2021-05-07T02:37:25.085797Z",
     "shell.execute_reply.started": "2021-05-07T02:32:45.081103Z"
    },
    "tags": []
   },
   "outputs": [
    {
     "name": "stdout",
     "output_type": "stream",
     "text": [
      "1741\n"
     ]
    }
   ],
   "source": [
    "with open(\"D:/datasets/AllVideo_numpy_list_pickle/01_data_NonFight_210507.pickle\",\"rb\") as fr:\n",
    "    data_NonFight=pickle.load(fr)\n",
    "print(len(data_NonFight))"
   ]
  },
  {
   "cell_type": "code",
   "execution_count": 5,
   "metadata": {
    "execution": {
     "iopub.execute_input": "2021-05-07T02:37:25.121322Z",
     "iopub.status.busy": "2021-05-07T02:37:25.105701Z",
     "iopub.status.idle": "2021-05-07T02:37:25.184185Z",
     "shell.execute_reply": "2021-05-07T02:37:25.183471Z",
     "shell.execute_reply.started": "2021-05-07T02:37:25.121322Z"
    },
    "tags": []
   },
   "outputs": [
    {
     "name": "stdout",
     "output_type": "stream",
     "text": [
      "1741\n"
     ]
    }
   ],
   "source": [
    "with open(\"D:/datasets/AllVideo_numpy_list_pickle/01_label_NonFight_210507.pickle\",\"rb\") as fr:\n",
    "    label_NonFight=pickle.load(fr)\n",
    "print(len(label_NonFight))"
   ]
  },
  {
   "cell_type": "markdown",
   "metadata": {},
   "source": [
    "# 폭력+비폭력 데이터,라벨을 합치고(ZIP) 셔플하기"
   ]
  },
  {
   "cell_type": "markdown",
   "metadata": {},
   "source": [
    "## 데이터를 합치기"
   ]
  },
  {
   "cell_type": "code",
   "execution_count": 6,
   "metadata": {
    "execution": {
     "iopub.execute_input": "2021-05-07T02:37:25.185184Z",
     "iopub.status.busy": "2021-05-07T02:37:25.184185Z",
     "iopub.status.idle": "2021-05-07T02:37:25.199298Z",
     "shell.execute_reply": "2021-05-07T02:37:25.199298Z",
     "shell.execute_reply.started": "2021-05-07T02:37:25.185184Z"
    },
    "tags": []
   },
   "outputs": [
    {
     "name": "stdout",
     "output_type": "stream",
     "text": [
      "3582\n"
     ]
    }
   ],
   "source": [
    "data_total=data_Fight+data_NonFight\n",
    "print(len(data_total))"
   ]
  },
  {
   "cell_type": "code",
   "execution_count": 7,
   "metadata": {
    "execution": {
     "iopub.execute_input": "2021-05-07T02:37:25.202265Z",
     "iopub.status.busy": "2021-05-07T02:37:25.201268Z",
     "iopub.status.idle": "2021-05-07T02:37:25.215001Z",
     "shell.execute_reply": "2021-05-07T02:37:25.215001Z",
     "shell.execute_reply.started": "2021-05-07T02:37:25.202265Z"
    },
    "tags": []
   },
   "outputs": [
    {
     "name": "stdout",
     "output_type": "stream",
     "text": [
      "3582\n"
     ]
    }
   ],
   "source": [
    "label_total=label_Fight+label_NonFight\n",
    "print(len(label_total))"
   ]
  },
  {
   "cell_type": "markdown",
   "metadata": {},
   "source": [
    "## 데이터 셔플"
   ]
  },
  {
   "cell_type": "code",
   "execution_count": 8,
   "metadata": {
    "execution": {
     "iopub.execute_input": "2021-05-07T02:37:25.215923Z",
     "iopub.status.busy": "2021-05-07T02:37:25.215923Z",
     "iopub.status.idle": "2021-05-07T02:37:25.246274Z",
     "shell.execute_reply": "2021-05-07T02:37:25.246274Z",
     "shell.execute_reply.started": "2021-05-07T02:37:25.215923Z"
    },
    "tags": []
   },
   "outputs": [],
   "source": [
    "np.random.seed(42) #> 랜덤시드 고정 : 셔플 결과 고정"
   ]
  },
  {
   "cell_type": "code",
   "execution_count": 9,
   "metadata": {
    "execution": {
     "iopub.execute_input": "2021-05-07T02:37:25.252286Z",
     "iopub.status.busy": "2021-05-07T02:37:25.252286Z",
     "iopub.status.idle": "2021-05-07T02:37:25.277052Z",
     "shell.execute_reply": "2021-05-07T02:37:25.277052Z",
     "shell.execute_reply.started": "2021-05-07T02:37:25.252286Z"
    },
    "tags": []
   },
   "outputs": [],
   "source": [
    "c=list(zip(data_total, label_total)) # zip을 사용해 두 리스트를 묶어 리스트화\n",
    "shuffle(c) # 셔플(무작위 섞기) : 파일이름, 레이블\n",
    "data_total, label_total=zip(*c) # c를 풀어 주어 names, labels를 만든다는 뜻으로 보인다. unpacking"
   ]
  },
  {
   "cell_type": "markdown",
   "metadata": {},
   "source": [
    "## 합쳐서 셔플한 데이터를 피클로 저장\n",
    "* csv로 저장시 실패합니다. \n",
    "* pickle 저장시, 메모리 부족 문제 해결 : **`pickle.dump(protocol=pickle.HIGHEST_PROTOCOL)`**\n",
    "    * https://www.codetd.com/ja/article/12032606 참조"
   ]
  },
  {
   "cell_type": "code",
   "execution_count": 10,
   "metadata": {
    "execution": {
     "iopub.execute_input": "2021-05-07T02:37:25.278050Z",
     "iopub.status.busy": "2021-05-07T02:37:25.278050Z",
     "iopub.status.idle": "2021-05-07T02:47:35.164189Z",
     "shell.execute_reply": "2021-05-07T02:47:35.133050Z",
     "shell.execute_reply.started": "2021-05-07T02:37:25.278050Z"
    },
    "tags": []
   },
   "outputs": [],
   "source": [
    "with open(\"D:/datasets/AllVideo_numpy_list_pickle/02_data_total_210507.pickle\",\"wb\") as fw:\n",
    "    pickle.dump(data_total, fw, protocol=pickle.HIGHEST_PROTOCOL)\n",
    "    #> pickle.dump()에서 protocol : 프로토콜 값이 클수록 덤프 속도가 빨라지고,\n",
    "    #> 지원되는 데이터 유형이 많을수록 저장된 파일이 차지하는 공간이 작아지고 기타 최적화 수행됨"
   ]
  },
  {
   "cell_type": "code",
   "execution_count": 11,
   "metadata": {
    "execution": {
     "iopub.execute_input": "2021-05-07T02:47:35.195431Z",
     "iopub.status.busy": "2021-05-07T02:47:35.195431Z",
     "iopub.status.idle": "2021-05-07T02:47:35.290942Z",
     "shell.execute_reply": "2021-05-07T02:47:35.290942Z",
     "shell.execute_reply.started": "2021-05-07T02:47:35.195431Z"
    },
    "tags": []
   },
   "outputs": [],
   "source": [
    "with open(\"D:/datasets/AllVideo_numpy_list_pickle/02_label_total_210507.pickle\",\"wb\") as fw:\n",
    "    pickle.dump(label_total, fw)"
   ]
  },
  {
   "cell_type": "markdown",
   "metadata": {},
   "source": [
    "# 훈련 셋 / 테스트 셋 나누기"
   ]
  },
  {
   "cell_type": "markdown",
   "metadata": {},
   "source": [
    "## 셔플된 토탈 데이터/레이블 불러오기\n",
    "* 메모리 부족으로 인해 주피터랩 커널이 멈추거나 재시작되는 일이 발생하여, 과정을 나누어 진행했습니다.\n",
    "* 상기의 저장된 피클 파일을 불러오는 것입니다."
   ]
  },
  {
   "cell_type": "code",
   "execution_count": 2,
   "metadata": {
    "execution": {
     "iopub.execute_input": "2021-05-07T03:54:16.123376Z",
     "iopub.status.busy": "2021-05-07T03:54:16.122400Z",
     "iopub.status.idle": "2021-05-07T04:03:43.924428Z",
     "shell.execute_reply": "2021-05-07T04:03:43.892461Z",
     "shell.execute_reply.started": "2021-05-07T03:54:16.123376Z"
    },
    "tags": []
   },
   "outputs": [],
   "source": [
    "with open(\"D:/datasets/AllVideo_numpy_list_pickle/02_data_total_210507.pickle\",\"rb\") as fr:\n",
    "    data_total=pickle.load(fr)"
   ]
  },
  {
   "cell_type": "code",
   "execution_count": 3,
   "metadata": {
    "execution": {
     "iopub.execute_input": "2021-05-07T04:03:43.961200Z",
     "iopub.status.busy": "2021-05-07T04:03:43.960203Z",
     "iopub.status.idle": "2021-05-07T04:03:44.222192Z",
     "shell.execute_reply": "2021-05-07T04:03:44.222192Z",
     "shell.execute_reply.started": "2021-05-07T04:03:43.961200Z"
    },
    "tags": []
   },
   "outputs": [],
   "source": [
    "with open(\"D:/datasets/AllVideo_numpy_list_pickle/02_label_total_210507.pickle\",\"rb\") as fr:\n",
    "    label_total=pickle.load(fr)"
   ]
  },
  {
   "cell_type": "markdown",
   "metadata": {},
   "source": [
    "## 훈련 셋/테스트 셋 분할"
   ]
  },
  {
   "cell_type": "code",
   "execution_count": 4,
   "metadata": {
    "execution": {
     "iopub.execute_input": "2021-05-07T04:03:44.224186Z",
     "iopub.status.busy": "2021-05-07T04:03:44.224186Z",
     "iopub.status.idle": "2021-05-07T04:03:44.237174Z",
     "shell.execute_reply": "2021-05-07T04:03:44.237174Z",
     "shell.execute_reply.started": "2021-05-07T04:03:44.224186Z"
    },
    "tags": []
   },
   "outputs": [],
   "source": [
    "training_set=int(len(data_total)*0.8) # 전체 파일 개수 중 80%를 훈련 셋으로 배정\n",
    "test_set=int(len(data_total)*0.2) # 전체 파일 개수 중 20%를 테스트 셋으로 배정"
   ]
  },
  {
   "cell_type": "code",
   "execution_count": 5,
   "metadata": {
    "execution": {
     "iopub.execute_input": "2021-05-07T04:03:44.246128Z",
     "iopub.status.busy": "2021-05-07T04:03:44.245131Z",
     "iopub.status.idle": "2021-05-07T04:03:44.267196Z",
     "shell.execute_reply": "2021-05-07T04:03:44.267196Z",
     "shell.execute_reply.started": "2021-05-07T04:03:44.246128Z"
    },
    "tags": []
   },
   "outputs": [],
   "source": [
    "data_training=data_total[0:training_set] # 훈련 셋 파일 이름들\n",
    "data_test=data_total[training_set:] #테스트 셋 파일 이름들\n",
    "\n",
    "label_training=label_total[0:training_set] #훈련 셋 파일 레이블\n",
    "label_test=label_total[training_set:] #테스트 셋 파일 레이블"
   ]
  },
  {
   "cell_type": "code",
   "execution_count": 6,
   "metadata": {
    "execution": {
     "iopub.execute_input": "2021-05-07T04:03:44.268069Z",
     "iopub.status.busy": "2021-05-07T04:03:44.268069Z",
     "iopub.status.idle": "2021-05-07T04:03:44.344116Z",
     "shell.execute_reply": "2021-05-07T04:03:44.344116Z",
     "shell.execute_reply.started": "2021-05-07T04:03:44.268069Z"
    },
    "tags": []
   },
   "outputs": [
    {
     "data": {
      "text/plain": [
       "(2865, 2865, 717, 717)"
      ]
     },
     "execution_count": 6,
     "metadata": {},
     "output_type": "execute_result"
    }
   ],
   "source": [
    "len(data_training), len(label_training), len(data_test), len(label_test)"
   ]
  },
  {
   "cell_type": "code",
   "execution_count": 7,
   "metadata": {
    "execution": {
     "iopub.execute_input": "2021-05-07T04:03:44.345114Z",
     "iopub.status.busy": "2021-05-07T04:03:44.345114Z",
     "iopub.status.idle": "2021-05-07T04:03:44.359253Z",
     "shell.execute_reply": "2021-05-07T04:03:44.359253Z",
     "shell.execute_reply.started": "2021-05-07T04:03:44.345114Z"
    },
    "tags": []
   },
   "outputs": [
    {
     "data": {
      "text/plain": [
       "((30, 160, 160, 3), (2,))"
      ]
     },
     "execution_count": 7,
     "metadata": {},
     "output_type": "execute_result"
    }
   ],
   "source": [
    "data_training[0].shape, label_training[0].shape"
   ]
  },
  {
   "cell_type": "code",
   "execution_count": 8,
   "metadata": {
    "execution": {
     "iopub.execute_input": "2021-05-07T04:03:44.360244Z",
     "iopub.status.busy": "2021-05-07T04:03:44.360244Z",
     "iopub.status.idle": "2021-05-07T04:03:44.391376Z",
     "shell.execute_reply": "2021-05-07T04:03:44.390710Z",
     "shell.execute_reply.started": "2021-05-07T04:03:44.360244Z"
    },
    "tags": []
   },
   "outputs": [
    {
     "data": {
      "text/plain": [
       "array([[0., 0., 0., ..., 0., 0., 0.],\n",
       "       [0., 0., 0., ..., 0., 0., 0.],\n",
       "       [0., 0., 0., ..., 0., 0., 0.],\n",
       "       ...,\n",
       "       [0., 0., 0., ..., 0., 0., 0.],\n",
       "       [0., 0., 0., ..., 0., 0., 0.],\n",
       "       [0., 0., 0., ..., 0., 0., 0.]])"
      ]
     },
     "execution_count": 8,
     "metadata": {},
     "output_type": "execute_result"
    }
   ],
   "source": [
    "data_training[0][0, :, :, 0]"
   ]
  },
  {
   "cell_type": "markdown",
   "metadata": {},
   "source": [
    "## 훈련 셋/테스트 셋을 피클로 저장"
   ]
  },
  {
   "cell_type": "code",
   "execution_count": 9,
   "metadata": {
    "execution": {
     "iopub.execute_input": "2021-05-07T04:03:44.396365Z",
     "iopub.status.busy": "2021-05-07T04:03:44.396365Z",
     "iopub.status.idle": "2021-05-07T04:12:09.248664Z",
     "shell.execute_reply": "2021-05-07T04:12:09.233042Z",
     "shell.execute_reply.started": "2021-05-07T04:03:44.396365Z"
    },
    "tags": []
   },
   "outputs": [],
   "source": [
    "with open(\"D:/datasets/AllVideo_numpy_list_pickle/02_data_training_210507.pickle\",\"wb\") as fw:\n",
    "    pickle.dump(data_training, fw, protocol=pickle.HIGHEST_PROTOCOL)\n",
    "    #> 용량/메모리 부족으로 저장하지 못했던 오류 해결"
   ]
  },
  {
   "cell_type": "code",
   "execution_count": 10,
   "metadata": {
    "execution": {
     "iopub.execute_input": "2021-05-07T04:12:09.264856Z",
     "iopub.status.busy": "2021-05-07T04:12:09.264856Z",
     "iopub.status.idle": "2021-05-07T04:12:09.313824Z",
     "shell.execute_reply": "2021-05-07T04:12:09.313824Z",
     "shell.execute_reply.started": "2021-05-07T04:12:09.264856Z"
    },
    "tags": []
   },
   "outputs": [],
   "source": [
    "with open(\"D:/datasets/AllVideo_numpy_list_pickle/02_label_training_210507.pickle\",\"wb\") as fw:\n",
    "    pickle.dump(label_training, fw)"
   ]
  },
  {
   "cell_type": "code",
   "execution_count": 11,
   "metadata": {
    "execution": {
     "iopub.execute_input": "2021-05-07T04:12:09.314870Z",
     "iopub.status.busy": "2021-05-07T04:12:09.314870Z",
     "iopub.status.idle": "2021-05-07T04:14:13.432319Z",
     "shell.execute_reply": "2021-05-07T04:14:13.423259Z",
     "shell.execute_reply.started": "2021-05-07T04:12:09.314870Z"
    },
    "tags": []
   },
   "outputs": [],
   "source": [
    "with open(\"D:/datasets/AllVideo_numpy_list_pickle/02_data_test_210507.pickle\",\"wb\") as fw:\n",
    "    pickle.dump(data_test, fw, protocol=pickle.HIGHEST_PROTOCOL)\n",
    "    #> 용량/메모리 부족으로 저장하지 못했던 오류 해결"
   ]
  },
  {
   "cell_type": "code",
   "execution_count": 12,
   "metadata": {
    "execution": {
     "iopub.execute_input": "2021-05-07T04:14:13.432319Z",
     "iopub.status.busy": "2021-05-07T04:14:13.432319Z",
     "iopub.status.idle": "2021-05-07T04:14:13.473216Z",
     "shell.execute_reply": "2021-05-07T04:14:13.473216Z",
     "shell.execute_reply.started": "2021-05-07T04:14:13.432319Z"
    },
    "tags": []
   },
   "outputs": [],
   "source": [
    "with open(\"D:/datasets/AllVideo_numpy_list_pickle/02_label_test_210507.pickle\",\"wb\") as fw:\n",
    "    pickle.dump(label_test, fw)"
   ]
  },
  {
   "cell_type": "markdown",
   "metadata": {},
   "source": [
    "# 데이터, 레이블 리스트를 넘파이 배열로 변환하여 저장하기"
   ]
  },
  {
   "cell_type": "markdown",
   "metadata": {},
   "source": [
    "## 피클로 저장된 훈련 셋/테스트 셋을 불러오기"
   ]
  },
  {
   "cell_type": "markdown",
   "metadata": {},
   "source": [
    "### 훈련 셋 : 데이터, 레이블"
   ]
  },
  {
   "cell_type": "code",
   "execution_count": null,
   "metadata": {
    "tags": []
   },
   "outputs": [],
   "source": [
    "with open(\"D:/datasets/AllVideo_numpy_list_pickle/02_data_training_210507.pickle\",\"rb\") as fr:\n",
    "    data_training=pickle.load(fr)"
   ]
  },
  {
   "cell_type": "code",
   "execution_count": null,
   "metadata": {
    "tags": []
   },
   "outputs": [],
   "source": [
    "with open(\"D:/datasets/AllVideo_numpy_list_pickle/02_label_training_210507.pickle\",\"rb\") as fr:\n",
    "    label_training=pickle.load(fr)"
   ]
  },
  {
   "cell_type": "markdown",
   "metadata": {},
   "source": [
    "### 테스트 셋 : 데이터, 레이블"
   ]
  },
  {
   "cell_type": "code",
   "execution_count": 2,
   "metadata": {
    "execution": {
     "iopub.execute_input": "2021-05-07T04:25:55.352827Z",
     "iopub.status.busy": "2021-05-07T04:25:55.352827Z",
     "iopub.status.idle": "2021-05-07T04:27:53.665534Z",
     "shell.execute_reply": "2021-05-07T04:27:53.658023Z",
     "shell.execute_reply.started": "2021-05-07T04:25:55.352827Z"
    },
    "tags": []
   },
   "outputs": [],
   "source": [
    "with open(\"D:/datasets/AllVideo_numpy_list_pickle/02_data_test_210507.pickle\",\"rb\") as fr:\n",
    "    data_test=pickle.load(fr)"
   ]
  },
  {
   "cell_type": "code",
   "execution_count": 3,
   "metadata": {
    "execution": {
     "iopub.execute_input": "2021-05-07T04:27:53.678500Z",
     "iopub.status.busy": "2021-05-07T04:27:53.677502Z",
     "iopub.status.idle": "2021-05-07T04:27:53.714796Z",
     "shell.execute_reply": "2021-05-07T04:27:53.714796Z",
     "shell.execute_reply.started": "2021-05-07T04:27:53.678500Z"
    },
    "tags": []
   },
   "outputs": [],
   "source": [
    "with open(\"D:/datasets/AllVideo_numpy_list_pickle/02_label_test_210507.pickle\",\"rb\") as fr:\n",
    "    label_test=pickle.load(fr)"
   ]
  },
  {
   "cell_type": "markdown",
   "metadata": {},
   "source": [
    "## 데이터, 레이블을 넘파이 배열로 저장하기"
   ]
  },
  {
   "cell_type": "markdown",
   "metadata": {},
   "source": [
    "### 훈련 셋"
   ]
  },
  {
   "cell_type": "code",
   "execution_count": 13,
   "metadata": {
    "execution": {
     "iopub.execute_input": "2021-05-07T04:14:13.474344Z",
     "iopub.status.busy": "2021-05-07T04:14:13.474344Z",
     "iopub.status.idle": "2021-05-07T04:19:45.774116Z",
     "shell.execute_reply": "2021-05-07T04:19:45.757159Z",
     "shell.execute_reply.started": "2021-05-07T04:14:13.474344Z"
    },
    "tags": []
   },
   "outputs": [],
   "source": [
    "data_training_ar=np.array(data_training, dtype=np.float16) #> (2865, 30, 160, 160, 3)"
   ]
  },
  {
   "cell_type": "code",
   "execution_count": 14,
   "metadata": {
    "execution": {
     "iopub.execute_input": "2021-05-07T04:19:45.787128Z",
     "iopub.status.busy": "2021-05-07T04:19:45.787128Z",
     "iopub.status.idle": "2021-05-07T04:21:24.288841Z",
     "shell.execute_reply": "2021-05-07T04:21:24.279865Z",
     "shell.execute_reply.started": "2021-05-07T04:19:45.787128Z"
    },
    "tags": []
   },
   "outputs": [],
   "source": [
    "np.save('D:/datasets/AllVideo_numpy_list_pickle/02_data_training_Numpy_210507.npy', data_training_ar)"
   ]
  },
  {
   "cell_type": "code",
   "execution_count": 15,
   "metadata": {
    "execution": {
     "iopub.execute_input": "2021-05-07T04:21:24.297266Z",
     "iopub.status.busy": "2021-05-07T04:21:24.297266Z",
     "iopub.status.idle": "2021-05-07T04:21:24.325425Z",
     "shell.execute_reply": "2021-05-07T04:21:24.325425Z",
     "shell.execute_reply.started": "2021-05-07T04:21:24.297266Z"
    },
    "tags": []
   },
   "outputs": [],
   "source": [
    "label_training_ar=np.array(label_training) #> (2865, 2)"
   ]
  },
  {
   "cell_type": "code",
   "execution_count": 16,
   "metadata": {
    "execution": {
     "iopub.execute_input": "2021-05-07T04:21:24.331502Z",
     "iopub.status.busy": "2021-05-07T04:21:24.330505Z",
     "iopub.status.idle": "2021-05-07T04:21:24.372418Z",
     "shell.execute_reply": "2021-05-07T04:21:24.372418Z",
     "shell.execute_reply.started": "2021-05-07T04:21:24.331502Z"
    },
    "tags": []
   },
   "outputs": [],
   "source": [
    "np.save('D:/datasets/AllVideo_numpy_list_pickle/02_label_training_Numpy_210507.npy', label_training_ar)"
   ]
  },
  {
   "cell_type": "code",
   "execution_count": 17,
   "metadata": {
    "execution": {
     "iopub.execute_input": "2021-05-07T04:21:24.373390Z",
     "iopub.status.busy": "2021-05-07T04:21:24.373390Z",
     "iopub.status.idle": "2021-05-07T04:21:24.388351Z",
     "shell.execute_reply": "2021-05-07T04:21:24.388351Z",
     "shell.execute_reply.started": "2021-05-07T04:21:24.373390Z"
    },
    "tags": []
   },
   "outputs": [
    {
     "data": {
      "text/plain": [
       "((2865, 30, 160, 160, 3), (2865, 2))"
      ]
     },
     "execution_count": 17,
     "metadata": {},
     "output_type": "execute_result"
    }
   ],
   "source": [
    "data_training_ar.shape, label_training_ar.shape"
   ]
  },
  {
   "cell_type": "markdown",
   "metadata": {},
   "source": [
    "### 테스트 셋"
   ]
  },
  {
   "cell_type": "code",
   "execution_count": 4,
   "metadata": {
    "execution": {
     "iopub.execute_input": "2021-05-07T04:27:53.715660Z",
     "iopub.status.busy": "2021-05-07T04:27:53.715660Z",
     "iopub.status.idle": "2021-05-07T04:29:13.541234Z",
     "shell.execute_reply": "2021-05-07T04:29:13.536217Z",
     "shell.execute_reply.started": "2021-05-07T04:27:53.715660Z"
    },
    "tags": []
   },
   "outputs": [],
   "source": [
    "data_test_ar=np.array(data_test, dtype=np.float16) #> (717, 30, 160, 160, 3)"
   ]
  },
  {
   "cell_type": "code",
   "execution_count": 5,
   "metadata": {
    "execution": {
     "iopub.execute_input": "2021-05-07T04:29:13.555048Z",
     "iopub.status.busy": "2021-05-07T04:29:13.555048Z",
     "iopub.status.idle": "2021-05-07T04:29:35.211764Z",
     "shell.execute_reply": "2021-05-07T04:29:35.211764Z",
     "shell.execute_reply.started": "2021-05-07T04:29:13.555048Z"
    },
    "tags": []
   },
   "outputs": [],
   "source": [
    "np.save('D:/datasets/AllVideo_numpy_list_pickle/02_data_test_Numpy_210507.npy', data_test_ar)"
   ]
  },
  {
   "cell_type": "code",
   "execution_count": 6,
   "metadata": {
    "execution": {
     "iopub.execute_input": "2021-05-07T04:29:35.211764Z",
     "iopub.status.busy": "2021-05-07T04:29:35.211764Z",
     "iopub.status.idle": "2021-05-07T04:29:35.243862Z",
     "shell.execute_reply": "2021-05-07T04:29:35.243862Z",
     "shell.execute_reply.started": "2021-05-07T04:29:35.211764Z"
    },
    "tags": []
   },
   "outputs": [],
   "source": [
    "label_test_ar=np.array(label_test) #> (717, 2)"
   ]
  },
  {
   "cell_type": "code",
   "execution_count": 7,
   "metadata": {
    "execution": {
     "iopub.execute_input": "2021-05-07T04:29:35.244828Z",
     "iopub.status.busy": "2021-05-07T04:29:35.244828Z",
     "iopub.status.idle": "2021-05-07T04:29:35.275117Z",
     "shell.execute_reply": "2021-05-07T04:29:35.275117Z",
     "shell.execute_reply.started": "2021-05-07T04:29:35.244828Z"
    },
    "tags": []
   },
   "outputs": [],
   "source": [
    "np.save('D:/datasets/AllVideo_numpy_list_pickle/02_label_test_Numpy_210507.npy', label_test_ar)"
   ]
  },
  {
   "cell_type": "code",
   "execution_count": 8,
   "metadata": {
    "execution": {
     "iopub.execute_input": "2021-05-07T04:29:35.277112Z",
     "iopub.status.busy": "2021-05-07T04:29:35.277112Z",
     "iopub.status.idle": "2021-05-07T04:29:35.660340Z",
     "shell.execute_reply": "2021-05-07T04:29:35.660340Z",
     "shell.execute_reply.started": "2021-05-07T04:29:35.277112Z"
    },
    "tags": []
   },
   "outputs": [
    {
     "data": {
      "text/plain": [
       "((717, 30, 160, 160, 3), (717, 2))"
      ]
     },
     "execution_count": 8,
     "metadata": {},
     "output_type": "execute_result"
    }
   ],
   "source": [
    "data_test_ar.shape, label_test_ar.shape"
   ]
  }
 ],
 "metadata": {
  "kernelspec": {
   "display_name": "Python 3",
   "language": "python",
   "name": "python3"
  },
  "language_info": {
   "codemirror_mode": {
    "name": "ipython",
    "version": 3
   },
   "file_extension": ".py",
   "mimetype": "text/x-python",
   "name": "python",
   "nbconvert_exporter": "python",
   "pygments_lexer": "ipython3",
   "version": "3.8.5"
  }
 },
 "nbformat": 4,
 "nbformat_minor": 4
}
