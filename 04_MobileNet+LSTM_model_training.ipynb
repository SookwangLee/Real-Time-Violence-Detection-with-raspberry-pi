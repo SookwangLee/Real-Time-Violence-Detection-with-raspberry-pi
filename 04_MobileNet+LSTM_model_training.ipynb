{
 "cells": [
  {
   "cell_type": "markdown",
   "metadata": {},
   "source": [
    "# Train LSTM : MobileNet\n",
    "\n",
    "* 21XXXX_01_... .ipynb ~ 21XXXX_03_... .ipynb 다음에 이어지는 코드입니다.\n",
    "* MobileNet를 통과해 추출한 프레임별 특성 넘파이 배열을 투입하여, LSTM 모델을 훈련시킵니다.\n",
    "* 훈련된 모델은 .h5 확장자의 파일로 저장합니다."
   ]
  },
  {
   "cell_type": "markdown",
   "metadata": {},
   "source": [
    "# Import"
   ]
  },
  {
   "cell_type": "code",
   "execution_count": 1,
   "metadata": {
    "execution": {
     "iopub.execute_input": "2021-05-08T10:33:41.162810Z",
     "iopub.status.busy": "2021-05-08T10:33:41.162810Z",
     "iopub.status.idle": "2021-05-08T10:33:52.840860Z",
     "shell.execute_reply": "2021-05-08T10:33:52.840860Z",
     "shell.execute_reply.started": "2021-05-08T10:33:41.162810Z"
    },
    "tags": []
   },
   "outputs": [],
   "source": [
    "import numpy as np # numpy 배열\n",
    "import os # 파일 및 폴더의 경로 지정을 위한 모듈\n",
    "import tensorflow as tf # 텐서플로우\n",
    "from tensorflow import keras # 케라스\n",
    "import time #프로세스 소요시간 표시 목적\n",
    "import matplotlib.pyplot as plt"
   ]
  },
  {
   "cell_type": "code",
   "execution_count": 2,
   "metadata": {
    "execution": {
     "iopub.execute_input": "2021-05-08T10:33:52.840860Z",
     "iopub.status.busy": "2021-05-08T10:33:52.840860Z",
     "iopub.status.idle": "2021-05-08T10:33:52.881524Z",
     "shell.execute_reply": "2021-05-08T10:33:52.881524Z",
     "shell.execute_reply.started": "2021-05-08T10:33:52.840860Z"
    },
    "tags": []
   },
   "outputs": [
    {
     "name": "stdout",
     "output_type": "stream",
     "text": [
      "[name: \"/device:CPU:0\"\n",
      "device_type: \"CPU\"\n",
      "memory_limit: 268435456\n",
      "locality {\n",
      "}\n",
      "incarnation: 7016598972982481879\n",
      "]\n"
     ]
    }
   ],
   "source": [
    "from tensorflow.python.client import device_lib\n",
    "print(device_lib.list_local_devices())"
   ]
  },
  {
   "cell_type": "markdown",
   "metadata": {},
   "source": [
    "# VGG19, predict, reshape를 거쳐 생성된 비디오 데이터셋과 레이블 불러오기\n"
   ]
  },
  {
   "cell_type": "code",
   "execution_count": 3,
   "metadata": {
    "execution": {
     "iopub.execute_input": "2021-05-08T10:33:52.883844Z",
     "iopub.status.busy": "2021-05-08T10:33:52.881524Z",
     "iopub.status.idle": "2021-05-08T10:34:52.521516Z",
     "shell.execute_reply": "2021-05-08T10:34:52.521516Z",
     "shell.execute_reply.started": "2021-05-08T10:33:52.883844Z"
    },
    "tags": []
   },
   "outputs": [],
   "source": [
    "X_train_reshaped=np.load('D:/datasets/AllVideo_numpy_list_pickle/MobileNet_x_train_reshaped.npy')\n",
    "#> (2865, 30, 25600) ndarray"
   ]
  },
  {
   "cell_type": "code",
   "execution_count": 4,
   "metadata": {
    "execution": {
     "iopub.execute_input": "2021-05-08T10:34:52.521516Z",
     "iopub.status.busy": "2021-05-08T10:34:52.521516Z",
     "iopub.status.idle": "2021-05-08T10:35:21.673569Z",
     "shell.execute_reply": "2021-05-08T10:35:21.673569Z",
     "shell.execute_reply.started": "2021-05-08T10:34:52.521516Z"
    },
    "tags": []
   },
   "outputs": [],
   "source": [
    "X_test_reshaped=np.load('D:/datasets/AllVideo_numpy_list_pickle/MobileNet_x_test_reshaped.npy')\n",
    "#> (717, 30, 25600) ndarray"
   ]
  },
  {
   "cell_type": "code",
   "execution_count": 5,
   "metadata": {
    "execution": {
     "iopub.execute_input": "2021-05-08T10:35:21.673569Z",
     "iopub.status.busy": "2021-05-08T10:35:21.673569Z",
     "iopub.status.idle": "2021-05-08T10:35:21.737316Z",
     "shell.execute_reply": "2021-05-08T10:35:21.736304Z",
     "shell.execute_reply.started": "2021-05-08T10:35:21.673569Z"
    },
    "tags": []
   },
   "outputs": [],
   "source": [
    "y_train=np.load('D:/datasets/AllVideo_numpy_list_pickle/02_label_training_Numpy_210507.npy')\n",
    "#> (2865, 2) ndarray (동영상 개수, 2)"
   ]
  },
  {
   "cell_type": "code",
   "execution_count": 6,
   "metadata": {
    "execution": {
     "iopub.execute_input": "2021-05-08T10:35:21.738299Z",
     "iopub.status.busy": "2021-05-08T10:35:21.738299Z",
     "iopub.status.idle": "2021-05-08T10:35:21.767316Z",
     "shell.execute_reply": "2021-05-08T10:35:21.767316Z",
     "shell.execute_reply.started": "2021-05-08T10:35:21.738299Z"
    },
    "tags": []
   },
   "outputs": [],
   "source": [
    "y_test=np.load('D:/datasets/AllVideo_numpy_list_pickle/02_label_test_Numpy_210507.npy')\n",
    "#> (717, 2) ndarray (동영상 개수, 2)"
   ]
  },
  {
   "cell_type": "code",
   "execution_count": 7,
   "metadata": {
    "execution": {
     "iopub.execute_input": "2021-05-08T10:35:21.768286Z",
     "iopub.status.busy": "2021-05-08T10:35:21.768286Z",
     "iopub.status.idle": "2021-05-08T10:35:22.063668Z",
     "shell.execute_reply": "2021-05-08T10:35:22.062670Z",
     "shell.execute_reply.started": "2021-05-08T10:35:21.768286Z"
    },
    "tags": []
   },
   "outputs": [
    {
     "data": {
      "text/plain": [
       "((2865, 30, 25600), (717, 30, 25600))"
      ]
     },
     "execution_count": 7,
     "metadata": {},
     "output_type": "execute_result"
    }
   ],
   "source": [
    "X_train_reshaped.shape, X_test_reshaped.shape #> (동영상 개수, 프레임 개수, 25600)"
   ]
  },
  {
   "cell_type": "code",
   "execution_count": 8,
   "metadata": {
    "execution": {
     "iopub.execute_input": "2021-05-08T10:35:22.067660Z",
     "iopub.status.busy": "2021-05-08T10:35:22.066661Z",
     "iopub.status.idle": "2021-05-08T10:35:22.079625Z",
     "shell.execute_reply": "2021-05-08T10:35:22.078627Z",
     "shell.execute_reply.started": "2021-05-08T10:35:22.067660Z"
    },
    "tags": []
   },
   "outputs": [
    {
     "data": {
      "text/plain": [
       "((2865, 2), (717, 2))"
      ]
     },
     "execution_count": 8,
     "metadata": {},
     "output_type": "execute_result"
    }
   ],
   "source": [
    "y_train.shape, y_test.shape"
   ]
  },
  {
   "cell_type": "code",
   "execution_count": 9,
   "metadata": {
    "execution": {
     "iopub.execute_input": "2021-05-08T10:35:22.085612Z",
     "iopub.status.busy": "2021-05-08T10:35:22.084612Z",
     "iopub.status.idle": "2021-05-08T10:35:22.109544Z",
     "shell.execute_reply": "2021-05-08T10:35:22.109544Z",
     "shell.execute_reply.started": "2021-05-08T10:35:22.085612Z"
    },
    "tags": []
   },
   "outputs": [
    {
     "data": {
      "text/plain": [
       "array([[0, 1],\n",
       "       [1, 0],\n",
       "       [1, 0],\n",
       "       [1, 0],\n",
       "       [0, 1],\n",
       "       [1, 0],\n",
       "       [0, 1],\n",
       "       [0, 1],\n",
       "       [0, 1],\n",
       "       [0, 1],\n",
       "       [0, 1],\n",
       "       [0, 1],\n",
       "       [0, 1],\n",
       "       [0, 1],\n",
       "       [1, 0],\n",
       "       [1, 0],\n",
       "       [1, 0],\n",
       "       [1, 0],\n",
       "       [1, 0],\n",
       "       [1, 0]])"
      ]
     },
     "execution_count": 9,
     "metadata": {},
     "output_type": "execute_result"
    }
   ],
   "source": [
    "y_train[10:30]"
   ]
  },
  {
   "cell_type": "markdown",
   "metadata": {},
   "source": [
    "# LSTM 모델 구축\n",
    "* MobileNet를 거쳐 만들어진 배열과 크기를 맞춰야 함에 유의합니다.\n",
    "* **`n_chunks`** : 초당 프레임 수와 같습니다. 즉, 30입니다."
   ]
  },
  {
   "cell_type": "code",
   "execution_count": 21,
   "metadata": {
    "execution": {
     "iopub.execute_input": "2021-05-08T12:13:40.854565Z",
     "iopub.status.busy": "2021-05-08T12:13:40.854565Z",
     "iopub.status.idle": "2021-05-08T12:13:41.891912Z",
     "shell.execute_reply": "2021-05-08T12:13:41.891912Z",
     "shell.execute_reply.started": "2021-05-08T12:13:40.854565Z"
    },
    "tags": []
   },
   "outputs": [],
   "source": [
    "chunk_size=25600\n",
    "n_chunks=30\n",
    "rnn_size=512\n",
    "\n",
    "model=keras.models.Sequential()\n",
    "model.add(keras.layers.LSTM(rnn_size, input_shape=(n_chunks, chunk_size))) # (30, 25600)\n",
    "model.add(keras.layers.Dense(1024))\n",
    "model.add(keras.layers.Activation('relu'))\n",
    "model.add(keras.layers.Dense(256))\n",
    "model.add(keras.layers.Activation('sigmoid'))\n",
    "model.add(keras.layers.Dense(2))\n",
    "model.add(keras.layers.Activation('softmax'))"
   ]
  },
  {
   "cell_type": "code",
   "execution_count": 22,
   "metadata": {
    "execution": {
     "iopub.execute_input": "2021-05-08T12:13:43.580931Z",
     "iopub.status.busy": "2021-05-08T12:13:43.580931Z",
     "iopub.status.idle": "2021-05-08T12:13:43.593900Z",
     "shell.execute_reply": "2021-05-08T12:13:43.592934Z",
     "shell.execute_reply.started": "2021-05-08T12:13:43.580931Z"
    },
    "tags": []
   },
   "outputs": [],
   "source": [
    "model.compile(loss='mean_squared_error', optimizer='adam', metrics=['accuracy'])"
   ]
  },
  {
   "cell_type": "code",
   "execution_count": 23,
   "metadata": {
    "execution": {
     "iopub.execute_input": "2021-05-08T12:13:45.166720Z",
     "iopub.status.busy": "2021-05-08T12:13:45.166720Z",
     "iopub.status.idle": "2021-05-08T12:13:45.185665Z",
     "shell.execute_reply": "2021-05-08T12:13:45.185665Z",
     "shell.execute_reply.started": "2021-05-08T12:13:45.166720Z"
    },
    "tags": []
   },
   "outputs": [
    {
     "name": "stdout",
     "output_type": "stream",
     "text": [
      "Model: \"sequential_1\"\n",
      "_________________________________________________________________\n",
      "Layer (type)                 Output Shape              Param #   \n",
      "=================================================================\n",
      "lstm_1 (LSTM)                (None, 512)               53479424  \n",
      "_________________________________________________________________\n",
      "dense_3 (Dense)              (None, 1024)              525312    \n",
      "_________________________________________________________________\n",
      "activation_3 (Activation)    (None, 1024)              0         \n",
      "_________________________________________________________________\n",
      "dense_4 (Dense)              (None, 256)               262400    \n",
      "_________________________________________________________________\n",
      "activation_4 (Activation)    (None, 256)               0         \n",
      "_________________________________________________________________\n",
      "dense_5 (Dense)              (None, 2)                 514       \n",
      "_________________________________________________________________\n",
      "activation_5 (Activation)    (None, 2)                 0         \n",
      "=================================================================\n",
      "Total params: 54,267,650\n",
      "Trainable params: 54,267,650\n",
      "Non-trainable params: 0\n",
      "_________________________________________________________________\n"
     ]
    }
   ],
   "source": [
    "model.summary()"
   ]
  },
  {
   "cell_type": "code",
   "execution_count": 13,
   "metadata": {
    "execution": {
     "iopub.execute_input": "2021-05-08T10:35:23.262578Z",
     "iopub.status.busy": "2021-05-08T10:35:23.262578Z",
     "iopub.status.idle": "2021-05-08T10:35:27.731830Z",
     "shell.execute_reply": "2021-05-08T10:35:27.731363Z",
     "shell.execute_reply.started": "2021-05-08T10:35:23.262578Z"
    },
    "tags": []
   },
   "outputs": [
    {
     "data": {
      "image/png": "[encoded data removed]",
      "text/plain": [
       "<IPython.core.display.Image object>"
      ]
     },
     "execution_count": 13,
     "metadata": {},
     "output_type": "execute_result"
    }
   ],
   "source": [
    "keras.utils.plot_model(model, show_shapes=True)"
   ]
  },
  {
   "cell_type": "markdown",
   "metadata": {},
   "source": [
    "# 콜백 정의"
   ]
  },
  {
   "cell_type": "code",
   "execution_count": 24,
   "metadata": {
    "execution": {
     "iopub.execute_input": "2021-05-08T12:13:51.339371Z",
     "iopub.status.busy": "2021-05-08T12:13:51.339371Z",
     "iopub.status.idle": "2021-05-08T12:13:51.343361Z",
     "shell.execute_reply": "2021-05-08T12:13:51.343361Z",
     "shell.execute_reply.started": "2021-05-08T12:13:51.339371Z"
    },
    "tags": []
   },
   "outputs": [],
   "source": [
    "checkpoint_cb=keras.callbacks.ModelCheckpoint('210508_vc_MobileNet_checkpoint_epoch100.h5', save_best_only=True)"
   ]
  },
  {
   "cell_type": "markdown",
   "metadata": {},
   "source": [
    "# 모델 훈련"
   ]
  },
  {
   "cell_type": "code",
   "execution_count": 25,
   "metadata": {
    "execution": {
     "iopub.execute_input": "2021-05-08T12:13:53.614555Z",
     "iopub.status.busy": "2021-05-08T12:13:53.614555Z",
     "iopub.status.idle": "2021-05-08T12:13:53.622534Z",
     "shell.execute_reply": "2021-05-08T12:13:53.622534Z",
     "shell.execute_reply.started": "2021-05-08T12:13:53.614555Z"
    },
    "tags": []
   },
   "outputs": [],
   "source": [
    "np.random.seed(42)"
   ]
  },
  {
   "cell_type": "code",
   "execution_count": 26,
   "metadata": {
    "execution": {
     "iopub.execute_input": "2021-05-08T12:13:55.664604Z",
     "iopub.status.busy": "2021-05-08T12:13:55.664604Z",
     "iopub.status.idle": "2021-05-08T13:53:58.922086Z",
     "shell.execute_reply": "2021-05-08T13:53:58.882045Z",
     "shell.execute_reply.started": "2021-05-08T12:13:55.664604Z"
    },
    "tags": []
   },
   "outputs": [
    {
     "name": "stdout",
     "output_type": "stream",
     "text": [
      "Epoch 1/100\n",
      "5/5 - 84s - loss: 0.3309 - accuracy: 0.4800 - val_loss: 0.2234 - val_accuracy: 0.6471\n",
      "Epoch 2/100\n",
      "5/5 - 55s - loss: 0.2091 - accuracy: 0.7152 - val_loss: 0.1779 - val_accuracy: 0.7477\n",
      "Epoch 3/100\n",
      "5/5 - 55s - loss: 0.1614 - accuracy: 0.7676 - val_loss: 0.1522 - val_accuracy: 0.7922\n",
      "Epoch 4/100\n",
      "5/5 - 57s - loss: 0.1374 - accuracy: 0.8043 - val_loss: 0.1440 - val_accuracy: 0.8092\n",
      "Epoch 5/100\n",
      "5/5 - 55s - loss: 0.1046 - accuracy: 0.8586 - val_loss: 0.1367 - val_accuracy: 0.8131\n",
      "Epoch 6/100\n",
      "5/5 - 61s - loss: 0.0731 - accuracy: 0.9162 - val_loss: 0.1448 - val_accuracy: 0.8026\n",
      "Epoch 7/100\n",
      "5/5 - 57s - loss: 0.0507 - accuracy: 0.9452 - val_loss: 0.1250 - val_accuracy: 0.8288\n",
      "Epoch 8/100\n",
      "5/5 - 58s - loss: 0.0323 - accuracy: 0.9638 - val_loss: 0.1341 - val_accuracy: 0.8196\n",
      "Epoch 9/100\n",
      "5/5 - 56s - loss: 0.0224 - accuracy: 0.9762 - val_loss: 0.1331 - val_accuracy: 0.8183\n",
      "Epoch 10/100\n",
      "5/5 - 57s - loss: 0.0140 - accuracy: 0.9876 - val_loss: 0.1363 - val_accuracy: 0.8144\n",
      "Epoch 11/100\n",
      "5/5 - 55s - loss: 0.0105 - accuracy: 0.9919 - val_loss: 0.1383 - val_accuracy: 0.8183\n",
      "Epoch 12/100\n",
      "5/5 - 57s - loss: 0.0081 - accuracy: 0.9929 - val_loss: 0.1404 - val_accuracy: 0.8157\n",
      "Epoch 13/100\n",
      "5/5 - 61s - loss: 0.0068 - accuracy: 0.9938 - val_loss: 0.1350 - val_accuracy: 0.8144\n",
      "Epoch 14/100\n",
      "5/5 - 72s - loss: 0.0043 - accuracy: 0.9962 - val_loss: 0.1351 - val_accuracy: 0.8196\n",
      "Epoch 15/100\n",
      "5/5 - 56s - loss: 0.0036 - accuracy: 0.9967 - val_loss: 0.1359 - val_accuracy: 0.8222\n",
      "Epoch 16/100\n",
      "5/5 - 56s - loss: 0.0026 - accuracy: 0.9971 - val_loss: 0.1362 - val_accuracy: 0.8301\n",
      "Epoch 17/100\n",
      "5/5 - 61s - loss: 0.0030 - accuracy: 0.9967 - val_loss: 0.1411 - val_accuracy: 0.8183\n",
      "Epoch 18/100\n",
      "5/5 - 60s - loss: 0.0025 - accuracy: 0.9976 - val_loss: 0.1342 - val_accuracy: 0.8261\n",
      "Epoch 19/100\n",
      "5/5 - 63s - loss: 0.0033 - accuracy: 0.9962 - val_loss: 0.1382 - val_accuracy: 0.8288\n",
      "Epoch 20/100\n",
      "5/5 - 61s - loss: 0.0024 - accuracy: 0.9971 - val_loss: 0.1418 - val_accuracy: 0.8196\n",
      "Epoch 21/100\n",
      "5/5 - 68s - loss: 0.0022 - accuracy: 0.9981 - val_loss: 0.1399 - val_accuracy: 0.8288\n",
      "Epoch 22/100\n",
      "5/5 - 58s - loss: 0.0022 - accuracy: 0.9967 - val_loss: 0.1358 - val_accuracy: 0.8275\n",
      "Epoch 23/100\n",
      "5/5 - 60s - loss: 0.0020 - accuracy: 0.9990 - val_loss: 0.1418 - val_accuracy: 0.8222\n",
      "Epoch 24/100\n",
      "5/5 - 57s - loss: 0.0017 - accuracy: 0.9986 - val_loss: 0.1373 - val_accuracy: 0.8248\n",
      "Epoch 25/100\n",
      "5/5 - 60s - loss: 0.0016 - accuracy: 0.9986 - val_loss: 0.1393 - val_accuracy: 0.8248\n",
      "Epoch 26/100\n",
      "5/5 - 57s - loss: 0.0015 - accuracy: 0.9986 - val_loss: 0.1410 - val_accuracy: 0.8183\n",
      "Epoch 27/100\n",
      "5/5 - 59s - loss: 0.0014 - accuracy: 0.9986 - val_loss: 0.1409 - val_accuracy: 0.8222\n",
      "Epoch 28/100\n",
      "5/5 - 59s - loss: 0.0013 - accuracy: 0.9986 - val_loss: 0.1397 - val_accuracy: 0.8222\n",
      "Epoch 29/100\n",
      "5/5 - 60s - loss: 0.0013 - accuracy: 0.9986 - val_loss: 0.1409 - val_accuracy: 0.8209\n",
      "Epoch 30/100\n",
      "5/5 - 58s - loss: 0.0013 - accuracy: 0.9986 - val_loss: 0.1448 - val_accuracy: 0.8248\n",
      "Epoch 31/100\n",
      "5/5 - 59s - loss: 0.0013 - accuracy: 0.9986 - val_loss: 0.1474 - val_accuracy: 0.8183\n",
      "Epoch 32/100\n",
      "5/5 - 58s - loss: 0.0013 - accuracy: 0.9986 - val_loss: 0.1430 - val_accuracy: 0.8261\n",
      "Epoch 33/100\n",
      "5/5 - 58s - loss: 0.0012 - accuracy: 0.9986 - val_loss: 0.1472 - val_accuracy: 0.8196\n",
      "Epoch 34/100\n",
      "5/5 - 64s - loss: 0.0013 - accuracy: 0.9986 - val_loss: 0.1449 - val_accuracy: 0.8222\n",
      "Epoch 35/100\n",
      "5/5 - 60s - loss: 0.0012 - accuracy: 0.9990 - val_loss: 0.1437 - val_accuracy: 0.8248\n",
      "Epoch 36/100\n",
      "5/5 - 60s - loss: 0.0012 - accuracy: 0.9986 - val_loss: 0.1457 - val_accuracy: 0.8209\n",
      "Epoch 37/100\n",
      "5/5 - 63s - loss: 0.0012 - accuracy: 0.9990 - val_loss: 0.1436 - val_accuracy: 0.8248\n",
      "Epoch 38/100\n",
      "5/5 - 62s - loss: 0.0011 - accuracy: 0.9990 - val_loss: 0.1452 - val_accuracy: 0.8222\n",
      "Epoch 39/100\n",
      "5/5 - 63s - loss: 0.0011 - accuracy: 0.9990 - val_loss: 0.1460 - val_accuracy: 0.8196\n",
      "Epoch 40/100\n",
      "5/5 - 61s - loss: 0.0011 - accuracy: 0.9990 - val_loss: 0.1458 - val_accuracy: 0.8222\n",
      "Epoch 41/100\n",
      "5/5 - 59s - loss: 0.0011 - accuracy: 0.9990 - val_loss: 0.1456 - val_accuracy: 0.8248\n",
      "Epoch 42/100\n",
      "5/5 - 58s - loss: 0.0011 - accuracy: 0.9990 - val_loss: 0.1450 - val_accuracy: 0.8261\n",
      "Epoch 43/100\n",
      "5/5 - 56s - loss: 0.0011 - accuracy: 0.9990 - val_loss: 0.1460 - val_accuracy: 0.8248\n",
      "Epoch 44/100\n",
      "5/5 - 56s - loss: 0.0011 - accuracy: 0.9990 - val_loss: 0.1434 - val_accuracy: 0.8261\n",
      "Epoch 45/100\n",
      "5/5 - 58s - loss: 0.0011 - accuracy: 0.9990 - val_loss: 0.1442 - val_accuracy: 0.8288\n",
      "Epoch 46/100\n",
      "5/5 - 62s - loss: 0.0011 - accuracy: 0.9990 - val_loss: 0.1478 - val_accuracy: 0.8248\n",
      "Epoch 47/100\n",
      "5/5 - 64s - loss: 0.0011 - accuracy: 0.9986 - val_loss: 0.1442 - val_accuracy: 0.8275\n",
      "Epoch 48/100\n",
      "5/5 - 63s - loss: 9.7447e-04 - accuracy: 0.9990 - val_loss: 0.1438 - val_accuracy: 0.8209\n",
      "Epoch 49/100\n",
      "5/5 - 61s - loss: 0.0011 - accuracy: 0.9990 - val_loss: 0.1433 - val_accuracy: 0.8275\n",
      "Epoch 50/100\n",
      "5/5 - 58s - loss: 9.3273e-04 - accuracy: 0.9990 - val_loss: 0.1468 - val_accuracy: 0.8261\n",
      "Epoch 51/100\n",
      "5/5 - 56s - loss: 0.0011 - accuracy: 0.9986 - val_loss: 0.1464 - val_accuracy: 0.8301\n",
      "Epoch 52/100\n",
      "5/5 - 57s - loss: 8.2602e-04 - accuracy: 0.9990 - val_loss: 0.1428 - val_accuracy: 0.8288\n",
      "Epoch 53/100\n",
      "5/5 - 54s - loss: 9.0109e-04 - accuracy: 0.9990 - val_loss: 0.1438 - val_accuracy: 0.8275\n",
      "Epoch 54/100\n",
      "5/5 - 62s - loss: 6.5462e-04 - accuracy: 0.9990 - val_loss: 0.1473 - val_accuracy: 0.8248\n",
      "Epoch 55/100\n",
      "5/5 - 59s - loss: 7.6118e-04 - accuracy: 0.9990 - val_loss: 0.1444 - val_accuracy: 0.8288\n",
      "Epoch 56/100\n",
      "5/5 - 60s - loss: 6.0900e-04 - accuracy: 0.9995 - val_loss: 0.1442 - val_accuracy: 0.8235\n",
      "Epoch 57/100\n",
      "5/5 - 61s - loss: 5.6296e-04 - accuracy: 0.9995 - val_loss: 0.1448 - val_accuracy: 0.8275\n",
      "Epoch 58/100\n",
      "5/5 - 61s - loss: 6.6882e-04 - accuracy: 0.9990 - val_loss: 0.1447 - val_accuracy: 0.8261\n",
      "Epoch 59/100\n",
      "5/5 - 59s - loss: 7.7909e-04 - accuracy: 0.9995 - val_loss: 0.1457 - val_accuracy: 0.8222\n",
      "Epoch 60/100\n",
      "5/5 - 58s - loss: 6.0694e-04 - accuracy: 0.9995 - val_loss: 0.1467 - val_accuracy: 0.8261\n",
      "Epoch 61/100\n",
      "5/5 - 57s - loss: 6.4590e-04 - accuracy: 0.9995 - val_loss: 0.1455 - val_accuracy: 0.8261\n",
      "Epoch 62/100\n",
      "5/5 - 63s - loss: 5.0820e-04 - accuracy: 0.9995 - val_loss: 0.1520 - val_accuracy: 0.8261\n",
      "Epoch 63/100\n",
      "5/5 - 61s - loss: 6.5902e-04 - accuracy: 0.9990 - val_loss: 0.1437 - val_accuracy: 0.8314\n",
      "Epoch 64/100\n",
      "5/5 - 61s - loss: 6.0479e-04 - accuracy: 0.9995 - val_loss: 0.1459 - val_accuracy: 0.8183\n",
      "Epoch 65/100\n",
      "5/5 - 57s - loss: 6.0466e-04 - accuracy: 0.9995 - val_loss: 0.1457 - val_accuracy: 0.8275\n",
      "Epoch 66/100\n",
      "5/5 - 60s - loss: 5.8251e-04 - accuracy: 0.9995 - val_loss: 0.1501 - val_accuracy: 0.8222\n",
      "Epoch 67/100\n",
      "5/5 - 66s - loss: 5.6828e-04 - accuracy: 0.9995 - val_loss: 0.1507 - val_accuracy: 0.8209\n",
      "Epoch 68/100\n",
      "5/5 - 62s - loss: 6.6376e-04 - accuracy: 0.9990 - val_loss: 0.1483 - val_accuracy: 0.8209\n",
      "Epoch 69/100\n",
      "5/5 - 63s - loss: 5.2690e-04 - accuracy: 0.9995 - val_loss: 0.1488 - val_accuracy: 0.8222\n",
      "Epoch 70/100\n",
      "5/5 - 62s - loss: 4.8042e-04 - accuracy: 0.9995 - val_loss: 0.1486 - val_accuracy: 0.8275\n",
      "Epoch 71/100\n",
      "5/5 - 59s - loss: 4.2711e-04 - accuracy: 0.9995 - val_loss: 0.1512 - val_accuracy: 0.8183\n",
      "Epoch 72/100\n",
      "5/5 - 62s - loss: 4.5869e-04 - accuracy: 0.9995 - val_loss: 0.1498 - val_accuracy: 0.8235\n",
      "Epoch 73/100\n",
      "5/5 - 63s - loss: 4.1765e-04 - accuracy: 0.9995 - val_loss: 0.1487 - val_accuracy: 0.8235\n",
      "Epoch 74/100\n",
      "5/5 - 59s - loss: 4.2908e-04 - accuracy: 0.9995 - val_loss: 0.1488 - val_accuracy: 0.8275\n",
      "Epoch 75/100\n",
      "5/5 - 59s - loss: 4.3619e-04 - accuracy: 0.9995 - val_loss: 0.1492 - val_accuracy: 0.8261\n",
      "Epoch 76/100\n",
      "5/5 - 62s - loss: 4.2833e-04 - accuracy: 0.9995 - val_loss: 0.1500 - val_accuracy: 0.8248\n",
      "Epoch 77/100\n",
      "5/5 - 64s - loss: 4.4653e-04 - accuracy: 0.9995 - val_loss: 0.1528 - val_accuracy: 0.8222\n",
      "Epoch 78/100\n",
      "5/5 - 58s - loss: 7.0872e-04 - accuracy: 0.9990 - val_loss: 0.1549 - val_accuracy: 0.8209\n",
      "Epoch 79/100\n",
      "5/5 - 57s - loss: 5.0386e-04 - accuracy: 0.9995 - val_loss: 0.1514 - val_accuracy: 0.8144\n",
      "Epoch 80/100\n",
      "5/5 - 54s - loss: 8.7335e-04 - accuracy: 0.9990 - val_loss: 0.1504 - val_accuracy: 0.8170\n",
      "Epoch 81/100\n",
      "5/5 - 58s - loss: 4.8280e-04 - accuracy: 0.9995 - val_loss: 0.1539 - val_accuracy: 0.8248\n",
      "Epoch 82/100\n",
      "5/5 - 61s - loss: 6.3399e-04 - accuracy: 0.9990 - val_loss: 0.1516 - val_accuracy: 0.8209\n",
      "Epoch 83/100\n",
      "5/5 - 60s - loss: 5.4474e-04 - accuracy: 0.9995 - val_loss: 0.1463 - val_accuracy: 0.8222\n",
      "Epoch 84/100\n",
      "5/5 - 61s - loss: 5.0059e-04 - accuracy: 0.9995 - val_loss: 0.1461 - val_accuracy: 0.8288\n",
      "Epoch 85/100\n",
      "5/5 - 62s - loss: 5.3984e-04 - accuracy: 0.9995 - val_loss: 0.1441 - val_accuracy: 0.8301\n",
      "Epoch 86/100\n",
      "5/5 - 62s - loss: 6.2637e-04 - accuracy: 0.9995 - val_loss: 0.1453 - val_accuracy: 0.8261\n",
      "Epoch 87/100\n",
      "5/5 - 60s - loss: 5.0592e-04 - accuracy: 0.9995 - val_loss: 0.1464 - val_accuracy: 0.8261\n",
      "Epoch 88/100\n",
      "5/5 - 62s - loss: 5.4622e-04 - accuracy: 0.9995 - val_loss: 0.1473 - val_accuracy: 0.8261\n",
      "Epoch 89/100\n",
      "5/5 - 64s - loss: 4.8679e-04 - accuracy: 0.9995 - val_loss: 0.1471 - val_accuracy: 0.8275\n",
      "Epoch 90/100\n",
      "5/5 - 58s - loss: 4.5406e-04 - accuracy: 0.9995 - val_loss: 0.1495 - val_accuracy: 0.8183\n",
      "Epoch 91/100\n",
      "5/5 - 62s - loss: 5.3217e-04 - accuracy: 0.9995 - val_loss: 0.1482 - val_accuracy: 0.8248\n",
      "Epoch 92/100\n",
      "5/5 - 56s - loss: 4.5104e-04 - accuracy: 0.9995 - val_loss: 0.1488 - val_accuracy: 0.8275\n",
      "Epoch 93/100\n",
      "5/5 - 59s - loss: 4.6972e-04 - accuracy: 0.9995 - val_loss: 0.1490 - val_accuracy: 0.8261\n",
      "Epoch 94/100\n",
      "5/5 - 62s - loss: 5.0927e-04 - accuracy: 0.9995 - val_loss: 0.1486 - val_accuracy: 0.8248\n",
      "Epoch 95/100\n",
      "5/5 - 56s - loss: 6.4651e-04 - accuracy: 0.9995 - val_loss: 0.1486 - val_accuracy: 0.8275\n",
      "Epoch 96/100\n",
      "5/5 - 55s - loss: 5.7940e-04 - accuracy: 0.9995 - val_loss: 0.1509 - val_accuracy: 0.8170\n",
      "Epoch 97/100\n",
      "5/5 - 61s - loss: 5.9930e-04 - accuracy: 0.9995 - val_loss: 0.1513 - val_accuracy: 0.8301\n",
      "Epoch 98/100\n",
      "5/5 - 62s - loss: 5.9882e-04 - accuracy: 0.9995 - val_loss: 0.1493 - val_accuracy: 0.8261\n",
      "Epoch 99/100\n",
      "5/5 - 59s - loss: 7.2662e-04 - accuracy: 0.9995 - val_loss: 0.1497 - val_accuracy: 0.8209\n",
      "Epoch 100/100\n",
      "5/5 - 53s - loss: 5.9788e-04 - accuracy: 0.9995 - val_loss: 0.1500 - val_accuracy: 0.8301\n"
     ]
    }
   ],
   "source": [
    "epoch=100\n",
    "batchS=500\n",
    "history=model.fit(x=X_train_reshaped[0:2100], y=y_train[0:2100],\n",
    "                  epochs=epoch,\n",
    "                  validation_data=(X_train_reshaped[2100:], y_train[2100:]),\n",
    "                  callbacks=[checkpoint_cb],\n",
    "                  batch_size=batchS, verbose=2)"
   ]
  },
  {
   "cell_type": "markdown",
   "metadata": {},
   "source": [
    "# 모델 테스트"
   ]
  },
  {
   "cell_type": "code",
   "execution_count": 27,
   "metadata": {
    "execution": {
     "iopub.execute_input": "2021-05-08T13:53:59.066049Z",
     "iopub.status.busy": "2021-05-08T13:53:59.066049Z",
     "iopub.status.idle": "2021-05-08T13:54:21.303979Z",
     "shell.execute_reply": "2021-05-08T13:54:21.302982Z",
     "shell.execute_reply.started": "2021-05-08T13:53:59.066049Z"
    },
    "tags": []
   },
   "outputs": [
    {
     "name": "stdout",
     "output_type": "stream",
     "text": [
      "23/23 [==============================] - 21s 872ms/step - loss: 0.1539 - accuracy: 0.8159\n"
     ]
    }
   ],
   "source": [
    "result=model.evaluate(X_test_reshaped, y_test)"
   ]
  },
  {
   "cell_type": "markdown",
   "metadata": {},
   "source": [
    " # 모델 정확도, 손실률 출력"
   ]
  },
  {
   "cell_type": "code",
   "execution_count": 28,
   "metadata": {
    "execution": {
     "iopub.execute_input": "2021-05-08T13:54:21.310960Z",
     "iopub.status.busy": "2021-05-08T13:54:21.310960Z",
     "iopub.status.idle": "2021-05-08T13:54:21.335894Z",
     "shell.execute_reply": "2021-05-08T13:54:21.334922Z",
     "shell.execute_reply.started": "2021-05-08T13:54:21.310960Z"
    },
    "tags": []
   },
   "outputs": [
    {
     "name": "stdout",
     "output_type": "stream",
     "text": [
      "loss 0.15388557314872742\n",
      "accuracy 0.8158996105194092\n"
     ]
    }
   ],
   "source": [
    "for name, value in zip(model.metrics_names, result):\n",
    "    print(name, value)"
   ]
  },
  {
   "cell_type": "code",
   "execution_count": 29,
   "metadata": {
    "execution": {
     "iopub.execute_input": "2021-05-08T13:54:21.339882Z",
     "iopub.status.busy": "2021-05-08T13:54:21.338885Z",
     "iopub.status.idle": "2021-05-08T13:54:22.364646Z",
     "shell.execute_reply": "2021-05-08T13:54:22.364646Z",
     "shell.execute_reply.started": "2021-05-08T13:54:21.339882Z"
    },
    "tags": []
   },
   "outputs": [
    {
     "data": {
      "image/png": "[encoded data removed]",
      "text/plain": [
       "<Figure size 432x288 with 1 Axes>"
      ]
     },
     "metadata": {
      "needs_background": "light"
     },
     "output_type": "display_data"
    },
    {
     "data": {
      "image/png": "[encoded data removed]",
      "text/plain": [
       "<Figure size 432x288 with 1 Axes>"
      ]
     },
     "metadata": {
      "needs_background": "light"
     },
     "output_type": "display_data"
    }
   ],
   "source": [
    "plt.plot(history.history['val_accuracy'])\n",
    "plt.title('model accuracy')\n",
    "plt.ylabel('accuracy')\n",
    "plt.xlabel('epoch')\n",
    "plt.legend(['validation'], loc='upper left')\n",
    "plt.savefig('210508_MobileNet_model_accuracy_epoch100.png')\n",
    "plt.show()\n",
    "# summarize history for loss\n",
    "plt.plot(history.history['loss'])\n",
    "plt.plot(history.history['val_loss'])\n",
    "plt.title('model loss')\n",
    "plt.ylabel('loss')\n",
    "plt.xlabel('epoch')\n",
    "plt.legend(['train', 'validation'], loc='upper left')\n",
    "plt.savefig('210508_MobileNet_model_loss_epoch100.png')\n",
    "plt.show()"
   ]
  },
  {
   "cell_type": "markdown",
   "metadata": {},
   "source": [
    "# 모델 저장\n",
    "* 여기서 저장한 모델(가중치 포함)을 다른 파일에서 불러올 수 있게 됩니다."
   ]
  },
  {
   "cell_type": "code",
   "execution_count": 30,
   "metadata": {
    "execution": {
     "iopub.execute_input": "2021-05-08T13:54:22.365646Z",
     "iopub.status.busy": "2021-05-08T13:54:22.365646Z",
     "iopub.status.idle": "2021-05-08T13:54:24.858243Z",
     "shell.execute_reply": "2021-05-08T13:54:24.858243Z",
     "shell.execute_reply.started": "2021-05-08T13:54:22.365646Z"
    },
    "tags": []
   },
   "outputs": [],
   "source": [
    "model.save('210508_vc_MobileNet_model_epoch100.h5', include_optimizer=True)"
   ]
  }
 ],
 "metadata": {
  "kernelspec": {
   "display_name": "Python 3",
   "language": "python",
   "name": "python3"
  },
  "language_info": {
   "codemirror_mode": {
    "name": "ipython",
    "version": 3
   },
   "file_extension": ".py",
   "mimetype": "text/x-python",
   "name": "python",
   "nbconvert_exporter": "python",
   "pygments_lexer": "ipython3",
   "version": "3.8.5"
  }
 },
 "nbformat": 4,
 "nbformat_minor": 4
}
